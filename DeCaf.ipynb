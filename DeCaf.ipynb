{
  "nbformat": 4,
  "nbformat_minor": 0,
  "metadata": {
    "colab": {
      "name": "DeCaf.ipynb",
      "provenance": [],
      "collapsed_sections": [],
      "toc_visible": true
    },
    "kernelspec": {
      "name": "python3",
      "display_name": "Python 3"
    }
  },
  "cells": [
    {
      "cell_type": "markdown",
      "metadata": {
        "id": "ue-brQOCOR4A",
        "colab_type": "text"
      },
      "source": [
        "# Notebook for the experiment of building **DeCaf** (**De**sign **C**l**a**ssi**f**ier)"
      ]
    },
    {
      "cell_type": "markdown",
      "metadata": {
        "id": "F_wliyuuasNx",
        "colab_type": "text"
      },
      "source": [
        "## Architectural Overview/Design\n",
        "![alt text](https://lh3.google.com/u/0/d/1QsyP7OCc-VqFeOjPRSmhQZo7efAP4Hyi=w1855-h982-iv2)"
      ]
    },
    {
      "cell_type": "markdown",
      "metadata": {
        "id": "0Up9iaDnZM9l",
        "colab_type": "text"
      },
      "source": [
        "## Objective\n",
        "The main objective is to classify discussions from pull request, issue tracker commit messages and code comments as `design` or `general`. We also want to make the classifier cross project compatible."
      ]
    },
    {
      "cell_type": "markdown",
      "metadata": {
        "id": "B9Av-qUhZOah",
        "colab_type": "text"
      },
      "source": [
        "## Data Collection\n",
        "- We intent to have three types of data. One data is to train the `Word Embedding` model. As `Word Embedding` requires structured form of literature, we have used sentences from literatures(ex. papers and books). Also we have restricted our choice of papers and books to only from the Software Engineering domain for keep the context of our `Word Embedding` model restricted to Software Engineering. Our `Word Embedding` model will be used to vectorize our train data.\n",
        "- We have collected our train data from Stack Overflow questions, answers and comments. We have collected data and classified them as `design` or `general` based on the tag. For example, questions and answers that contain `design-patterns` or `software-design` falls under the class of `design` while data tagged as `javascript` or `django` as classified as `general`"
      ]
    },
    {
      "cell_type": "markdown",
      "metadata": {
        "id": "A2xxEU72ZPf_",
        "colab_type": "text"
      },
      "source": [
        "## Data Cleaning\n",
        "Raw data can have a lot of noise. Specially when scraped from documents of website, it can contain a lot of misinformation in the form of names, punctuations, numbers(ex. years), misspelled and incompleted words. Also it can have a lot of stopwords that can make the model confused. We have removed all this to make our data as clean as possible. After the cleaning process, out data only contains words that are not stopwords, present in the english dictionary and has lenght greater than three."
      ]
    },
    {
      "cell_type": "code",
      "metadata": {
        "id": "6A-ie768Gp-2",
        "colab_type": "code",
        "outputId": "4426d865-114c-4d7f-c704-1b32840fdb78",
        "colab": {
          "base_uri": "https://localhost:8080/",
          "height": 34
        }
      },
      "source": [
        "from google.colab import drive\n",
        "drive.mount(\"/content/drive\")"
      ],
      "execution_count": 0,
      "outputs": [
        {
          "output_type": "stream",
          "text": [
            "Drive already mounted at /content/drive; to attempt to forcibly remount, call drive.mount(\"/content/drive\", force_remount=True).\n"
          ],
          "name": "stdout"
        }
      ]
    },
    {
      "cell_type": "markdown",
      "metadata": {
        "id": "fOd6VG5aIqdf",
        "colab_type": "text"
      },
      "source": [
        "## Assign Data location\n",
        "- literature: holds the data for word embedding"
      ]
    },
    {
      "cell_type": "code",
      "metadata": {
        "id": "S9gkg8dEI5fH",
        "colab_type": "code",
        "colab": {}
      },
      "source": [
        "literature_file = \"/content/drive/My Drive/documents/projects/DeCaf/data/literature.txt\"\n",
        "we_model_file = \"/content/drive/My Drive/documents/projects/DeCaf/model/we.bin\""
      ],
      "execution_count": 0,
      "outputs": []
    },
    {
      "cell_type": "markdown",
      "metadata": {
        "id": "GnD4SBPUJSir",
        "colab_type": "text"
      },
      "source": [
        "## Create Word Embedding\n",
        "- Use fasttext for word embedding\n",
        "1. we take literature.txt as our input data.\n",
        "2. we train the classifier upsupervised since we just want to group the data according to the similarity.\n",
        "3. we have used skipgram as we have observe that skipgram models works better with subword information that cbow\n",
        "4. we are taking words with character number from 4-20. since we are removing every word less than three characters, its not important to take the characters less than 4 characters. Also, the design words seems to be on the bigger side. for ex. reproduceability contains 16 characters. we are considering characters upto 25 characters.\n",
        "5. We are taking 300 dimension of the words. Also looping for 10 epochs. Both because the training corpus is relatively small."
      ]
    },
    {
      "cell_type": "code",
      "metadata": {
        "id": "i8LPXDN4KJMH",
        "colab_type": "code",
        "outputId": "21cc7b1c-4d5a-4291-ebff-3f196812984d",
        "colab": {
          "base_uri": "https://localhost:8080/",
          "height": 86
        }
      },
      "source": [
        "!pip install fasttext"
      ],
      "execution_count": 0,
      "outputs": [
        {
          "output_type": "stream",
          "text": [
            "Requirement already satisfied: fasttext in /usr/local/lib/python3.6/dist-packages (0.9.1)\n",
            "Requirement already satisfied: numpy in /usr/local/lib/python3.6/dist-packages (from fasttext) (1.18.2)\n",
            "Requirement already satisfied: pybind11>=2.2 in /usr/local/lib/python3.6/dist-packages (from fasttext) (2.4.3)\n",
            "Requirement already satisfied: setuptools>=0.7.0 in /usr/local/lib/python3.6/dist-packages (from fasttext) (46.0.0)\n"
          ],
          "name": "stdout"
        }
      ]
    },
    {
      "cell_type": "markdown",
      "metadata": {
        "id": "F9GxG-n5SwdC",
        "colab_type": "text"
      },
      "source": [
        "## Train the `Word Embedding` model and save it as we.bin\n",
        "- Train and save the model if the model is not present\n",
        "- Load the model from disk if preselt"
      ]
    },
    {
      "cell_type": "code",
      "metadata": {
        "id": "xDHxShLcsFoa",
        "colab_type": "code",
        "outputId": "c137fea1-74d9-4709-8271-e55656c768b0",
        "colab": {
          "base_uri": "https://localhost:8080/",
          "height": 69
        }
      },
      "source": [
        "import os\n",
        "from datetime import datetime as dt\n",
        "import fasttext as ft\n",
        "\n",
        "if not os.path.exists(we_model_file):\n",
        "  print(str(dt.now())+' Training Word Embedding model...')\n",
        "  we_model = ft.train_unsupervised(literature_file, \"skipgram\", minn=4, maxn=25, dim=300, epoch=10)\n",
        "  we_model.save_model(we_model_file)\n",
        "  print(str(dt.now())+' Model trained and saved successfully')\n",
        "else:\n",
        "  print(str(dt.now())+' Loading Word Embedding model from disk...')\n",
        "  we_model = ft.load_model(we_model_file)\n",
        "  print(str(dt.now())+' Model loaded successfully.')"
      ],
      "execution_count": 0,
      "outputs": [
        {
          "output_type": "stream",
          "text": [
            "2020-03-27 09:47:07.832133 Loading Word Embedding model from disk...\n",
            "2020-03-27 09:47:17.451980 Model loaded successfully.\n"
          ],
          "name": "stdout"
        },
        {
          "output_type": "stream",
          "text": [
            "\n"
          ],
          "name": "stderr"
        }
      ]
    },
    {
      "cell_type": "markdown",
      "metadata": {
        "id": "Z4ezQOGUS9JO",
        "colab_type": "text"
      },
      "source": [
        "## Playing around with the Word Embedding model"
      ]
    },
    {
      "cell_type": "markdown",
      "metadata": {
        "id": "NgToIpCwXp5F",
        "colab_type": "text"
      },
      "source": [
        "Get the dimention of the model"
      ]
    },
    {
      "cell_type": "code",
      "metadata": {
        "id": "7XgUwC1mXsxb",
        "colab_type": "code",
        "outputId": "c4e98062-9e4a-48d0-cf84-66c3af687bc5",
        "colab": {
          "base_uri": "https://localhost:8080/",
          "height": 34
        }
      },
      "source": [
        "we_model.get_dimension()"
      ],
      "execution_count": 0,
      "outputs": [
        {
          "output_type": "execute_result",
          "data": {
            "text/plain": [
              "300"
            ]
          },
          "metadata": {
            "tags": []
          },
          "execution_count": 32
        }
      ]
    },
    {
      "cell_type": "markdown",
      "metadata": {
        "id": "rGzgaNhGTFeV",
        "colab_type": "text"
      },
      "source": [
        "Get the words of the model... For a demo... "
      ]
    },
    {
      "cell_type": "code",
      "metadata": {
        "id": "OqgszQ6rXBmk",
        "colab_type": "code",
        "outputId": "6f863ad6-e4bf-4666-c780-8112384153c0",
        "colab": {
          "base_uri": "https://localhost:8080/",
          "height": 191
        }
      },
      "source": [
        "we_model.get_words()[0:10]"
      ],
      "execution_count": 0,
      "outputs": [
        {
          "output_type": "execute_result",
          "data": {
            "text/plain": [
              "['software',\n",
              " 'design',\n",
              " 'system',\n",
              " 'data',\n",
              " 'development',\n",
              " 'process',\n",
              " 'code',\n",
              " 'model',\n",
              " 'used',\n",
              " 'systems']"
            ]
          },
          "metadata": {
            "tags": []
          },
          "execution_count": 33
        }
      ]
    },
    {
      "cell_type": "markdown",
      "metadata": {
        "id": "bfDXAMsiXizi",
        "colab_type": "text"
      },
      "source": [
        "Get the vector of a word"
      ]
    },
    {
      "cell_type": "code",
      "metadata": {
        "id": "hwQIRXXdXWJL",
        "colab_type": "code",
        "outputId": "5f2ddcd7-50bc-4c1a-dc28-8887139427ce",
        "colab": {
          "base_uri": "https://localhost:8080/",
          "height": 104
        }
      },
      "source": [
        "we_model.get_word_vector('Maintainability')[0:20]"
      ],
      "execution_count": 0,
      "outputs": [
        {
          "output_type": "execute_result",
          "data": {
            "text/plain": [
              "array([ 0.49718451,  0.2315044 ,  0.00726337, -0.11509292, -0.30824506,\n",
              "        0.19385934, -0.05463782,  0.07306018, -0.41316083, -0.1308918 ,\n",
              "       -0.1589214 ,  0.38056305, -0.12928438, -0.02915404,  0.38863796,\n",
              "        0.06197078, -0.39293942,  0.32120928,  0.20311803,  0.02899477],\n",
              "      dtype=float32)"
            ]
          },
          "metadata": {
            "tags": []
          },
          "execution_count": 34
        }
      ]
    },
    {
      "cell_type": "markdown",
      "metadata": {
        "id": "gmzrg38PXzxt",
        "colab_type": "text"
      },
      "source": [
        "Get the vector of a sentence"
      ]
    },
    {
      "cell_type": "code",
      "metadata": {
        "id": "otivEp_7X3I-",
        "colab_type": "code",
        "outputId": "365dead6-73ca-4a5b-ce8a-0352cf2cb2c9",
        "colab": {
          "base_uri": "https://localhost:8080/",
          "height": 34
        }
      },
      "source": [
        "vector = we_model.get_sentence_vector(\"Add performance tracker to active admin jobs\")\n",
        "print(vector.shape)"
      ],
      "execution_count": 0,
      "outputs": [
        {
          "output_type": "stream",
          "text": [
            "(300,)\n"
          ],
          "name": "stdout"
        }
      ]
    },
    {
      "cell_type": "markdown",
      "metadata": {
        "id": "ND34XuJDLy2F",
        "colab_type": "text"
      },
      "source": [
        "## Read and process **TRAIN** data\n",
        "- We use three types of data from training the model. We scraped question, answer and comment data from Stack Overflow and tagged them `design` or `general`. The tagging was done automatically based on the original tag of the question. Then we process our data as we did before for our word embedding data to clear noise. We also did some additional processing to our train data. We only took those documents that contains more than 10 words. For the others, we discarded them. After processing, we got 1,00,000 documents(50,000-design, 50,000-general) for `questions.csv`, 40,000 documents(20,000-design, 20,000-general) for `answers.csv` and 60,000 documents(30,000-design, 30,000-general) for `comments.csv`.\n",
        "\n",
        "- Our train data is completely noise free, stopwords free and long documents of more than 10 words per document. All the data is randomly distributed.\n",
        "\n",
        "- After processing the data and converting the data in vector with the help of our trained word embedding model, we save the data as .npy file for quick access."
      ]
    },
    {
      "cell_type": "markdown",
      "metadata": {
        "id": "1E30pMihMDCA",
        "colab_type": "text"
      },
      "source": [
        "#### Assign train data location\n"
      ]
    },
    {
      "cell_type": "code",
      "metadata": {
        "id": "SGy3g1XTOC2-",
        "colab_type": "code",
        "colab": {}
      },
      "source": [
        "train_question_file = \"/content/drive/My Drive/documents/projects/DeCaf/data/train_data/questions.csv\"\n",
        "train_answer_file = \"/content/drive/My Drive/documents/projects/DeCaf/data/train_data/answers.csv\"\n",
        "train_comment_file = \"/content/drive/My Drive/documents/projects/DeCaf/data/train_data/comments.csv\""
      ],
      "execution_count": 0,
      "outputs": []
    },
    {
      "cell_type": "markdown",
      "metadata": {
        "id": "cjduBEkLOjcN",
        "colab_type": "text"
      },
      "source": [
        "#### Read the data with pandas"
      ]
    },
    {
      "cell_type": "code",
      "metadata": {
        "id": "Xw_-kkRROo5T",
        "colab_type": "code",
        "colab": {}
      },
      "source": [
        "import pandas as pd\n",
        "from prettytable import PrettyTable\n",
        "\n",
        "train_question = pd.read_csv(train_question_file)\n",
        "train_answer = pd.read_csv(train_answer_file)\n",
        "train_comment = pd.read_csv(train_comment_file)"
      ],
      "execution_count": 0,
      "outputs": []
    },
    {
      "cell_type": "markdown",
      "metadata": {
        "id": "NazCrfAzPD0J",
        "colab_type": "text"
      },
      "source": [
        "#### Explore the train data"
      ]
    },
    {
      "cell_type": "code",
      "metadata": {
        "id": "SbwPwlRvT2oJ",
        "colab_type": "code",
        "outputId": "03e42ff9-389d-4060-e43c-ce4b247c3a89",
        "colab": {
          "base_uri": "https://localhost:8080/",
          "height": 382
        }
      },
      "source": [
        "print(\"Question train data\")\n",
        "print(train_question.head())\n",
        "print(\"Answer train data\")\n",
        "print(train_answer.head())\n",
        "print(\"Comment train data\")\n",
        "print(train_comment.head())"
      ],
      "execution_count": 0,
      "outputs": [
        {
          "output_type": "stream",
          "text": [
            "Question train data\n",
            "                                            question    label\n",
            "0  control pattern according principle elsewhere ...   design\n",
            "1  messenger throws error getting errors messenge...  general\n",
            "2  error cannot find symbol variable trying integ...   design\n",
            "3  data mapper pattern different repository patte...   design\n",
            "4  start project using poetry start project using...  general\n",
            "Answer train data\n",
            "                                              answer    label\n",
            "0  just tell solved issue found feed posted file ...  general\n",
            "1  does actually implement copy cannot implement ...  general\n",
            "2  following comments included code note will spe...  general\n",
            "3  looks user present undefined method error need...  general\n",
            "4  think better natural argue method names explic...   design\n",
            "Comment train data\n",
            "                                             comment    label\n",
            "0  public declared class later library members sa...   design\n",
            "1  using server definitely needs reasonable chanc...  general\n",
            "2  defined crossproduct read rust programming lan...  general\n",
            "3  nice just clear means calling route times data...   design\n",
            "4  really difficult understand requirements examp...   design\n"
          ],
          "name": "stdout"
        }
      ]
    },
    {
      "cell_type": "code",
      "metadata": {
        "id": "oZR0EwyIPOvU",
        "colab_type": "code",
        "outputId": "86e39fc5-dc14-4cf8-eeb6-d5055b507e70",
        "colab": {
          "base_uri": "https://localhost:8080/",
          "height": 139
        }
      },
      "source": [
        "table = PrettyTable()\n",
        "\n",
        "table.field_names = [\"Dataset Name\", \"Shape\", \"# of design data\", \"# of general data\"]\n",
        "\n",
        "qd = train_question[train_question['label']=='design']\n",
        "qg = train_question[train_question['label']=='general']\n",
        "\n",
        "ad = train_answer[train_answer['label']=='design']\n",
        "ag = train_answer[train_answer['label']=='general']\n",
        "\n",
        "cd = train_comment[train_comment['label']=='design']\n",
        "cg = train_comment[train_comment['label']=='general']\n",
        "\n",
        "table.add_row([\"Question\", train_question.shape, qd.shape[0], qg.shape[0]])\n",
        "table.add_row([\"Answer\", train_answer.shape, ad.shape[0], ag.shape[0]])\n",
        "table.add_row([\"Comment\", train_comment.shape, cd.shape[0], cg.shape[0]])\n",
        "\n",
        "\n",
        "print(table)"
      ],
      "execution_count": 0,
      "outputs": [
        {
          "output_type": "stream",
          "text": [
            "+--------------+-------------+------------------+-------------------+\n",
            "| Dataset Name |    Shape    | # of design data | # of general data |\n",
            "+--------------+-------------+------------------+-------------------+\n",
            "|   Question   | (100000, 2) |      50000       |       50000       |\n",
            "|    Answer    |  (40000, 2) |      20000       |       20000       |\n",
            "|   Comment    |  (60000, 2) |      30000       |       30000       |\n",
            "+--------------+-------------+------------------+-------------------+\n"
          ],
          "name": "stdout"
        }
      ]
    },
    {
      "cell_type": "markdown",
      "metadata": {
        "id": "p4ntcn6aKPE3",
        "colab_type": "text"
      },
      "source": [
        "### Convert sentences in vector uisng Word Embedding model\n",
        "\n"
      ]
    },
    {
      "cell_type": "markdown",
      "metadata": {
        "id": "q52NSKvjeoQA",
        "colab_type": "text"
      },
      "source": [
        "Now we turn our head towards converting our train data to vectors of 300 dimension. We are naming our variable by the following convension:\n",
        "- question data = X_Q, question label = Y_Q\n",
        "- answer data = X_A, answer label = Y_A\n",
        "- comment data = X_C, comment label = Y_C"
      ]
    },
    {
      "cell_type": "markdown",
      "metadata": {
        "id": "-TmaOl6StWKM",
        "colab_type": "text"
      },
      "source": [
        "#### Location to save/retrive data in vector format"
      ]
    },
    {
      "cell_type": "code",
      "metadata": {
        "id": "uz5I9xV8tkEs",
        "colab_type": "code",
        "colab": {}
      },
      "source": [
        "X_Q_url = \"/content/drive/My Drive/documents/projects/DeCaf/data/train_data/X_Q.npy\"\n",
        "Y_Q_url = \"/content/drive/My Drive/documents/projects/DeCaf/data/train_data/Y_Q.npy\"\n",
        "\n",
        "X_A_url = \"/content/drive/My Drive/documents/projects/DeCaf/data/train_data/X_A.npy\"\n",
        "Y_A_url = \"/content/drive/My Drive/documents/projects/DeCaf/data/train_data/Y_A.npy\"\n",
        "\n",
        "X_C_url = \"/content/drive/My Drive/documents/projects/DeCaf/data/train_data/X_C.npy\"\n",
        "Y_C_url = \"/content/drive/My Drive/documents/projects/DeCaf/data/train_data/Y_C.npy\""
      ],
      "execution_count": 0,
      "outputs": []
    },
    {
      "cell_type": "markdown",
      "metadata": {
        "id": "3Q47D7-6yVIr",
        "colab_type": "text"
      },
      "source": [
        "We define `get_text_vector(data, url)` function to convert text sentences into 300 dimension word vector. We define `get_label_vector(label, url)` to convert the labels into vector.\n",
        "- look for the .npy file in the disk. if found then load the data into memory.\n",
        "- if not found then \n",
        "  - convert the text and labels into vector\n",
        "  - save the text and labels as .npy file "
      ]
    },
    {
      "cell_type": "code",
      "metadata": {
        "id": "GDBnIkvafAV7",
        "colab_type": "code",
        "colab": {}
      },
      "source": [
        "import numpy as np\n",
        "\n",
        "def get_text_vector(data, data_url):\n",
        "  if os.path.exists(data_url):\n",
        "    X = np.load(data_url)\n",
        "  else:\n",
        "    X = []\n",
        "    for sentence in data:\n",
        "      X.append(we_model.get_sentence_vector(sentence))\n",
        "    X = np.array(X)\n",
        "    np.save(data_url, X)\n",
        "  return X"
      ],
      "execution_count": 0,
      "outputs": []
    },
    {
      "cell_type": "code",
      "metadata": {
        "id": "Gpb4wbAJgYrm",
        "colab_type": "code",
        "colab": {}
      },
      "source": [
        "def get_label_vector(labels, label_url):\n",
        "  if os.path.exists(label_url):\n",
        "    Y = np.load(label_url)\n",
        "  else:\n",
        "    Y = []\n",
        "    for label in labels:\n",
        "      if label == 'design':\n",
        "        Y.append(1)\n",
        "      else:\n",
        "        Y.append(0)\n",
        "    Y = np.array(Y)\n",
        "    np.save(label_url, Y)\n",
        "  return Y"
      ],
      "execution_count": 0,
      "outputs": []
    },
    {
      "cell_type": "markdown",
      "metadata": {
        "id": "4-7wCNmayK9i",
        "colab_type": "text"
      },
      "source": [
        "#### Load and inspect the data "
      ]
    },
    {
      "cell_type": "code",
      "metadata": {
        "id": "0lo1ihPqbyCk",
        "colab_type": "code",
        "outputId": "ed1e0e49-7867-473e-84ee-75e1ef3136d8",
        "colab": {
          "base_uri": "https://localhost:8080/",
          "height": 52
        }
      },
      "source": [
        "X_Q = get_text_vector(train_question['question'], X_Q_url)\n",
        "Y_Q = get_label_vector(train_question['label'], Y_Q_url)\n",
        "print('Shape of X_Q: ', X_Q.shape)\n",
        "print('Shape of Y_Q: ', Y_Q.shape)"
      ],
      "execution_count": 0,
      "outputs": [
        {
          "output_type": "stream",
          "text": [
            "Shape of X_Q:  (100000, 300)\n",
            "Shape of Y_Q:  (100000,)\n"
          ],
          "name": "stdout"
        }
      ]
    },
    {
      "cell_type": "code",
      "metadata": {
        "id": "2NjL4tUcdb8z",
        "colab_type": "code",
        "outputId": "162a597f-2b7a-4669-9c1a-3222544c8aed",
        "colab": {
          "base_uri": "https://localhost:8080/",
          "height": 52
        }
      },
      "source": [
        "X_A = get_text_vector(train_answer['answer'], X_A_url)\n",
        "Y_A = get_label_vector(train_answer['label'], Y_A_url)\n",
        "print('Shape of X_A: ', X_A.shape)\n",
        "print('Shape of Y_A: ', Y_A.shape)"
      ],
      "execution_count": 0,
      "outputs": [
        {
          "output_type": "stream",
          "text": [
            "Shape of X_A:  (40000, 300)\n",
            "Shape of Y_A:  (40000,)\n"
          ],
          "name": "stdout"
        }
      ]
    },
    {
      "cell_type": "code",
      "metadata": {
        "id": "K2-zNJMnspD0",
        "colab_type": "code",
        "outputId": "bd5c0752-f9c5-47e4-9020-a6ac0ff6295d",
        "colab": {
          "base_uri": "https://localhost:8080/",
          "height": 52
        }
      },
      "source": [
        "X_C = get_text_vector(train_comment['comment'], X_C_url)\n",
        "Y_C = get_label_vector(train_comment['label'], Y_C_url)\n",
        "print('Shape of X_C: ', X_C.shape)\n",
        "print('Shape of Y_C: ', Y_C.shape)"
      ],
      "execution_count": 0,
      "outputs": [
        {
          "output_type": "stream",
          "text": [
            "Shape of X_C:  (60000, 300)\n",
            "Shape of Y_C:  (60000,)\n"
          ],
          "name": "stdout"
        }
      ]
    },
    {
      "cell_type": "markdown",
      "metadata": {
        "id": "hdvw7gNIVSEf",
        "colab_type": "text"
      },
      "source": [
        "## Read and process **VALIDATION** data\n",
        "- We are taking the same approach as above to read, process, convert and save our validation data.\n",
        "\n",
        "- X_V for the vector of the text, Y_V is the vector of the labels for validation data."
      ]
    },
    {
      "cell_type": "code",
      "metadata": {
        "id": "iNeKSdPtV9Vv",
        "colab_type": "code",
        "colab": {}
      },
      "source": [
        "validation_data_file = \"/content/drive/My Drive/documents/projects/DeCaf/data/validation_data/validation.csv\""
      ],
      "execution_count": 0,
      "outputs": []
    },
    {
      "cell_type": "code",
      "metadata": {
        "id": "6y0abI0aWMCK",
        "colab_type": "code",
        "colab": {}
      },
      "source": [
        "validation_data = pd.read_csv(validation_data_file)"
      ],
      "execution_count": 0,
      "outputs": []
    },
    {
      "cell_type": "code",
      "metadata": {
        "id": "l240dbRLWXGe",
        "colab_type": "code",
        "outputId": "1ceb7985-3ee6-471d-f055-226b620352f3",
        "colab": {
          "base_uri": "https://localhost:8080/",
          "height": 139
        }
      },
      "source": [
        "print(\"Shape: \", validation_data.shape)\n",
        "print(validation_data.head())"
      ],
      "execution_count": 0,
      "outputs": [
        {
          "output_type": "stream",
          "text": [
            "Shape:  (15000, 2)\n",
            "                                                text    label\n",
            "0  role based programming framework composite ori...   design\n",
            "1  switch programmatically dark mode swift switch...  general\n",
            "2  injection protecting invariants missing someth...   design\n",
            "3  child request kicks entity framework finished ...   design\n",
            "4  cache image name getting crash following fine ...  general\n"
          ],
          "name": "stdout"
        }
      ]
    },
    {
      "cell_type": "code",
      "metadata": {
        "id": "vuZkcU_aWn5t",
        "colab_type": "code",
        "outputId": "276bc073-635d-4423-dfe5-b412afbc60d1",
        "colab": {
          "base_uri": "https://localhost:8080/",
          "height": 52
        }
      },
      "source": [
        "print(\"Number of design data: \", validation_data[validation_data[\"label\"] == \"design\"].shape[0])\n",
        "print(\"number of general data: \", validation_data[validation_data[\"label\"] == \"general\"].shape[0])"
      ],
      "execution_count": 0,
      "outputs": [
        {
          "output_type": "stream",
          "text": [
            "Number of design data:  7500\n",
            "number of general data:  7500\n"
          ],
          "name": "stdout"
        }
      ]
    },
    {
      "cell_type": "code",
      "metadata": {
        "id": "cmQ45P1QXOnb",
        "colab_type": "code",
        "colab": {}
      },
      "source": [
        "X_V = get_text_vector(validation_data['text'], \"/content/drive/My Drive/documents/projects/DeCaf/data/validation_data/X_V.npy\")\n",
        "Y_V = get_label_vector(validation_data['label'], \"/content/drive/My Drive/documents/projects/DeCaf/data/validation_data/Y_V.npy\")"
      ],
      "execution_count": 0,
      "outputs": []
    },
    {
      "cell_type": "code",
      "metadata": {
        "id": "Grhes7JkX2ql",
        "colab_type": "code",
        "outputId": "10b861eb-a74a-4d4b-bc84-8e9f6205ced9",
        "colab": {
          "base_uri": "https://localhost:8080/",
          "height": 52
        }
      },
      "source": [
        "print(\"Shape of X_V: \", X_V.shape)\n",
        "print(\"Shape of Y_V: \", Y_V.shape)"
      ],
      "execution_count": 0,
      "outputs": [
        {
          "output_type": "stream",
          "text": [
            "Shape of X_V:  (15000, 300)\n",
            "Shape of Y_V:  (15000,)\n"
          ],
          "name": "stdout"
        }
      ]
    }
  ]
}