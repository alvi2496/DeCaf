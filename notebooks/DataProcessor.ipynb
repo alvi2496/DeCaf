{
  "nbformat": 4,
  "nbformat_minor": 0,
  "metadata": {
    "colab": {
      "name": "DataProcessor.ipynb",
      "provenance": [],
      "collapsed_sections": [],
      "toc_visible": true,
      "authorship_tag": "ABX9TyMQOuQOUCdcY6enTLvLuErk"
    },
    "kernelspec": {
      "name": "python3",
      "display_name": "Python 3"
    }
  },
  "cells": [
    {
      "cell_type": "markdown",
      "metadata": {
        "id": "AFj5gZpiUulo",
        "colab_type": "text"
      },
      "source": [
        "# Text Processing steps\n",
        "- Strip tags\n",
        "- Strip punctuations\n",
        "- Strip multiple whitespaces\n",
        "- Strip numeric\n",
        "- Spell correction\n",
        "- Remove Stopwords\n",
        "- Strip words with lenght < 3\n",
        "- Strip words with length > 25\n",
        "- Lemmitization over stemming\n",
        "- Stack Overflow similar word injection\n",
        "- Github similar word injection"
      ]
    },
    {
      "cell_type": "code",
      "metadata": {
        "id": "SEy_GGKOumRW",
        "colab_type": "code",
        "colab": {
          "base_uri": "https://localhost:8080/",
          "height": 34
        },
        "outputId": "999e1735-fd28-4c36-df73-41d4ddbc0682"
      },
      "source": [
        "from google.colab import drive\n",
        "drive.mount('/content/drive')"
      ],
      "execution_count": 118,
      "outputs": [
        {
          "output_type": "stream",
          "text": [
            "Drive already mounted at /content/drive; to attempt to forcibly remount, call drive.mount(\"/content/drive\", force_remount=True).\n"
          ],
          "name": "stdout"
        }
      ]
    },
    {
      "cell_type": "markdown",
      "metadata": {
        "id": "98PNXRn0u-EL",
        "colab_type": "text"
      },
      "source": [
        "## Imports"
      ]
    },
    {
      "cell_type": "code",
      "metadata": {
        "id": "8p9UdJeYvSAL",
        "colab_type": "code",
        "colab": {}
      },
      "source": [
        "import pandas as pd\n",
        "from gensim import utils\n",
        "from gensim.parsing.preprocessing import preprocess_string, strip_tags, \\\n",
        "strip_punctuation, strip_multiple_whitespaces, strip_numeric, \\\n",
        "remove_stopwords, strip_short\n",
        "import nltk\n",
        "from nltk.stem import WordNetLemmatizer\n",
        "import progressbar\n",
        "import os"
      ],
      "execution_count": 0,
      "outputs": []
    },
    {
      "cell_type": "code",
      "metadata": {
        "id": "AL5i5Ifdvc8_",
        "colab_type": "code",
        "colab": {
          "base_uri": "https://localhost:8080/",
          "height": 69
        },
        "outputId": "f082bbb9-6182-4060-9145-7bd4e9d34d91"
      },
      "source": [
        "nltk.download('wordnet')"
      ],
      "execution_count": 120,
      "outputs": [
        {
          "output_type": "stream",
          "text": [
            "[nltk_data] Downloading package wordnet to /root/nltk_data...\n",
            "[nltk_data]   Package wordnet is already up-to-date!\n"
          ],
          "name": "stdout"
        },
        {
          "output_type": "execute_result",
          "data": {
            "text/plain": [
              "True"
            ]
          },
          "metadata": {
            "tags": []
          },
          "execution_count": 120
        }
      ]
    },
    {
      "cell_type": "markdown",
      "metadata": {
        "id": "Q8GrHLHovsz7",
        "colab_type": "text"
      },
      "source": [
        "## Data Paths"
      ]
    },
    {
      "cell_type": "markdown",
      "metadata": {
        "id": "ZyApOwFQwbPK",
        "colab_type": "text"
      },
      "source": [
        "### input data paths"
      ]
    },
    {
      "cell_type": "code",
      "metadata": {
        "id": "yOY0aNzbvx2V",
        "colab_type": "code",
        "colab": {}
      },
      "source": [
        "train_data_path = \"/content/drive/My Drive/documents/projects/DeCaf/data/new/train_data/raw/combined.csv\"\n",
        "test_data_path = \"/content/drive/My Drive/documents/projects/DeCaf/data/new/test_data/raw/test.csv\"\n",
        "validation_data_path = \"/content/drive/My Drive/documents/projects/DeCaf/data/new/validation_data/raw/validation.csv\""
      ],
      "execution_count": 0,
      "outputs": []
    },
    {
      "cell_type": "markdown",
      "metadata": {
        "id": "u5otsAC5weMr",
        "colab_type": "text"
      },
      "source": [
        "### Output data paths"
      ]
    },
    {
      "cell_type": "code",
      "metadata": {
        "id": "1kC7IChbwlTt",
        "colab_type": "code",
        "colab": {}
      },
      "source": [
        "processed_train_data_path = \"/content/drive/My Drive/documents/projects/DeCaf/data/new/train_data/processed/combined.csv\"\n",
        "processed_test_data_path = \"/content/drive/My Drive/documents/projects/DeCaf/data/new/test_data/processed/test.csv\"\n",
        "processed_validation_data_path = \"/content/drive/My Drive/documents/projects/DeCaf/data/new/validation_data/processed/validation.csv\""
      ],
      "execution_count": 0,
      "outputs": []
    },
    {
      "cell_type": "markdown",
      "metadata": {
        "id": "HP0keXmczWCT",
        "colab_type": "text"
      },
      "source": [
        "## Read data"
      ]
    },
    {
      "cell_type": "code",
      "metadata": {
        "id": "mAWDhez2zYv0",
        "colab_type": "code",
        "colab": {}
      },
      "source": [
        "train_data = pd.read_csv(train_data_path)\n",
        "test_data = pd.read_csv(test_data_path)\n",
        "validation_data = pd.read_csv(validation_data_path)"
      ],
      "execution_count": 0,
      "outputs": []
    },
    {
      "cell_type": "markdown",
      "metadata": {
        "id": "lQDpOYZ2zJxB",
        "colab_type": "text"
      },
      "source": [
        "## Text processing pipeline"
      ]
    },
    {
      "cell_type": "code",
      "metadata": {
        "id": "deZBUXudH_Xj",
        "colab_type": "code",
        "colab": {}
      },
      "source": [
        "def lemmitizer(s):\n",
        "  wnl = WordNetLemmatizer()\n",
        "  return \" \".join(wnl.lemmatize(word) for word in s.split())"
      ],
      "execution_count": 0,
      "outputs": []
    },
    {
      "cell_type": "code",
      "metadata": {
        "id": "R_QjIPdD2-jT",
        "colab_type": "code",
        "colab": {}
      },
      "source": [
        "def strip_long(s, maxsize=25):\n",
        "  s = utils.to_unicode(s)\n",
        "  return \" \".join(e for e in s.split() if len(e) <= maxsize)"
      ],
      "execution_count": 0,
      "outputs": []
    },
    {
      "cell_type": "code",
      "metadata": {
        "id": "cMliV1PVzRAC",
        "colab_type": "code",
        "colab": {}
      },
      "source": [
        "def process(series):\n",
        "  pbar = progressbar.ProgressBar(max_value=series.shape[0])\n",
        "  custom_filters = [\n",
        "    lambda x: strip_long(x),\n",
        "    lambda x: lemmitizer(x),\n",
        "    strip_tags,\n",
        "    strip_punctuation,\n",
        "    strip_multiple_whitespaces,\n",
        "    strip_numeric,\n",
        "    remove_stopwords,\n",
        "    strip_short    \n",
        "  ]\n",
        "  for index, sentence in series.items():\n",
        "    series.iloc[index] = \" \".join(preprocess_string(sentence, custom_filters))\n",
        "    pbar.update(index)\n",
        "  return series"
      ],
      "execution_count": 0,
      "outputs": []
    },
    {
      "cell_type": "markdown",
      "metadata": {
        "id": "IAC8CX7w6Ys2",
        "colab_type": "text"
      },
      "source": [
        "## Process train data"
      ]
    },
    {
      "cell_type": "code",
      "metadata": {
        "id": "0ktKymDZ6mNy",
        "colab_type": "code",
        "colab": {
          "base_uri": "https://localhost:8080/",
          "height": 34
        },
        "outputId": "a42f8faf-7476-4945-c2ba-9534154c5a08"
      },
      "source": [
        "processed_series = process(train_data.text)\n",
        "processed_train_data = {'text': processed_series, 'tags': train_data.tags, 'label': train_data.label}\n",
        "processed_train_data = pd.DataFrame(processed_train_data)"
      ],
      "execution_count": 127,
      "outputs": [
        {
          "output_type": "stream",
          "text": [
            " 99% (199996 of 200000) |############### | Elapsed Time: 0:11:15 ETA:   0:00:00"
          ],
          "name": "stderr"
        }
      ]
    },
    {
      "cell_type": "code",
      "metadata": {
        "id": "vGgUmn-BPTJy",
        "colab_type": "code",
        "colab": {}
      },
      "source": [
        "if not os.path.exists(\"/content/drive/My Drive/documents/projects/DeCaf/data/new/train_data/processed/combined.csv\"):\n",
        "  processed_train_data.to_csv(\"/content/drive/My Drive/documents/projects/DeCaf/data/new/train_data/processed/combined.csv\", index=False)"
      ],
      "execution_count": 0,
      "outputs": []
    },
    {
      "cell_type": "markdown",
      "metadata": {
        "id": "csuTVP1ZQ-Qu",
        "colab_type": "text"
      },
      "source": [
        "## Process test data"
      ]
    },
    {
      "cell_type": "code",
      "metadata": {
        "id": "qXIECnqERDlA",
        "colab_type": "code",
        "colab": {
          "base_uri": "https://localhost:8080/",
          "height": 34
        },
        "outputId": "05803087-fa19-44d9-d7c0-7ebcd48747b3"
      },
      "source": [
        "processed_series = process(test_data.text)\n",
        "processed_test_data = {'text': processed_series, 'tags': test_data.tags, 'label': test_data.label}\n",
        "processed_test_data = pd.DataFrame(processed_test_data)"
      ],
      "execution_count": 132,
      "outputs": [
        {
          "output_type": "stream",
          "text": [
            " 99% (29900 of 30000) |################# | Elapsed Time: 0:00:25 ETA:   0:00:00"
          ],
          "name": "stderr"
        }
      ]
    },
    {
      "cell_type": "code",
      "metadata": {
        "id": "gUPCm2nVRTPQ",
        "colab_type": "code",
        "colab": {}
      },
      "source": [
        "if not os.path.exists(\"/content/drive/My Drive/documents/projects/DeCaf/data/new/test_data/processed/test_data.csv\"):\n",
        "  processed_test_data.to_csv(\"/content/drive/My Drive/documents/projects/DeCaf/data/new/test_data/processed/test_data.csv\", index=False)"
      ],
      "execution_count": 0,
      "outputs": []
    },
    {
      "cell_type": "markdown",
      "metadata": {
        "id": "bWPIM8i_Ru6q",
        "colab_type": "text"
      },
      "source": [
        "## Process validation data"
      ]
    },
    {
      "cell_type": "code",
      "metadata": {
        "id": "E4lN61DYRyN7",
        "colab_type": "code",
        "colab": {
          "base_uri": "https://localhost:8080/",
          "height": 34
        },
        "outputId": "b5bf8a23-8867-41d8-d896-6cb31b9217b8"
      },
      "source": [
        "processed_series = process(validation_data.text)\n",
        "processed_validation_data = {'text': processed_series, 'tags': validation_data.tags, 'label': validation_data.label}\n",
        "processed_validation_data = pd.DataFrame(processed_validation_data)"
      ],
      "execution_count": 134,
      "outputs": [
        {
          "output_type": "stream",
          "text": [
            " 99% (29997 of 30000) |################# | Elapsed Time: 0:00:24 ETA:   0:00:00"
          ],
          "name": "stderr"
        }
      ]
    },
    {
      "cell_type": "code",
      "metadata": {
        "id": "cuAYORacR7ag",
        "colab_type": "code",
        "colab": {}
      },
      "source": [
        "if not os.path.exists(\"/content/drive/My Drive/documents/projects/DeCaf/data/new/validation_data/processed/validation_data.csv\"):\n",
        "  processed_validation_data.to_csv(\"/content/drive/My Drive/documents/projects/DeCaf/data/new/validation_data/processed/validation_data.csv\", index=False)"
      ],
      "execution_count": 0,
      "outputs": []
    }
  ]
}