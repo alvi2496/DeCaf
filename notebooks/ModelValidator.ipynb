{
  "nbformat": 4,
  "nbformat_minor": 0,
  "metadata": {
    "colab": {
      "name": "ModelValidator.ipynb",
      "provenance": [],
      "collapsed_sections": [],
      "toc_visible": true,
      "machine_shape": "hm"
    },
    "kernelspec": {
      "name": "python3",
      "display_name": "Python 3"
    }
  },
  "cells": [
    {
      "cell_type": "markdown",
      "metadata": {
        "id": "ue-brQOCOR4A",
        "colab_type": "text"
      },
      "source": [
        "# Notebook for the experiment of building **DeCaf** (**De**sign **C**l**a**ssi**f**ier)"
      ]
    },
    {
      "cell_type": "markdown",
      "metadata": {
        "id": "F_wliyuuasNx",
        "colab_type": "text"
      },
      "source": [
        "## Architectural Overview/Design\n",
        "In Progress"
      ]
    },
    {
      "cell_type": "markdown",
      "metadata": {
        "id": "0Up9iaDnZM9l",
        "colab_type": "text"
      },
      "source": [
        "## Objective\n",
        "The main objective is to validate the model with various test data"
      ]
    },
    {
      "cell_type": "code",
      "metadata": {
        "id": "6A-ie768Gp-2",
        "colab_type": "code",
        "outputId": "9b798a55-14b0-4921-ad05-d24bcdbaa0af",
        "colab": {
          "base_uri": "https://localhost:8080/",
          "height": 34
        }
      },
      "source": [
        "from google.colab import drive\n",
        "drive.mount(\"/content/drive\")"
      ],
      "execution_count": 11,
      "outputs": [
        {
          "output_type": "stream",
          "text": [
            "Drive already mounted at /content/drive; to attempt to forcibly remount, call drive.mount(\"/content/drive\", force_remount=True).\n"
          ],
          "name": "stdout"
        }
      ]
    },
    {
      "cell_type": "code",
      "metadata": {
        "id": "b8H39Gum_Jy_",
        "colab_type": "code",
        "colab": {}
      },
      "source": [
        "import pandas as pd\n",
        "\n",
        "def log(log_file_path, message):\n",
        "  file = pd.DataFrame([[str(dt.now()), 'info', message]], columns=['timestamp', 'type', 'message'])\n",
        "  if not os.path.exists(log_file_path):\n",
        "    file.to_csv(log_file_path)\n",
        "  else:\n",
        "    file.to_csv(log_file_path, mode='a', header=False)\n",
        "\n",
        "def log_result(log_file_path, message):\n",
        "  f = open(log_file_path, \"a\")\n",
        "  f.write(str(dt.now()))\n",
        "  f.write(message)\n",
        "  f.close"
      ],
      "execution_count": 0,
      "outputs": []
    },
    {
      "cell_type": "markdown",
      "metadata": {
        "id": "ljPxEs-4Ngx0",
        "colab_type": "text"
      },
      "source": [
        "### Validate the models\n",
        "- We use Area Under the Receiver Operating Characteristic Curve (**ROC AUC**) from prediction scores as the validation criteria."
      ]
    },
    {
      "cell_type": "code",
      "metadata": {
        "id": "dLxh9uyZN4Kf",
        "colab_type": "code",
        "colab": {}
      },
      "source": [
        "from sklearn import metrics\n",
        "\n",
        "def auc_score(X, Y, model, process_number, auc):\n",
        "  pred = model.predict(X)\n",
        "  auc[process_number] = metrics.roc_auc_score(Y, pred)"
      ],
      "execution_count": 0,
      "outputs": []
    },
    {
      "cell_type": "markdown",
      "metadata": {
        "id": "tEj1rF_93pRq",
        "colab_type": "text"
      },
      "source": [
        "### Load test data"
      ]
    },
    {
      "cell_type": "code",
      "metadata": {
        "id": "J_qzpOVv3onz",
        "colab_type": "code",
        "colab": {}
      },
      "source": [
        "import numpy as np\n",
        "\n",
        "X_T = np.load(\"/content/drive/My Drive/documents/projects/DeCaf/data/test_data/X_T.npy\")\n",
        "Y_T = np.load(\"/content/drive/My Drive/documents/projects/DeCaf/data/test_data/Y_T.npy\")"
      ],
      "execution_count": 0,
      "outputs": []
    },
    {
      "cell_type": "markdown",
      "metadata": {
        "id": "TQKN9WbuOIus",
        "colab_type": "text"
      },
      "source": [
        "#### Load the data mining models and calculate the **ROC AUC** score"
      ]
    },
    {
      "cell_type": "code",
      "metadata": {
        "id": "n01kigvy_IIV",
        "colab_type": "code",
        "colab": {}
      },
      "source": [
        "  model_paths = [\n",
        "      \"/content/drive/My Drive/documents/projects/DeCaf/models/knn.joblib\",\n",
        "      \"/content/drive/My Drive/documents/projects/DeCaf/models/dt.joblib\",\n",
        "      \"/content/drive/My Drive/documents/projects/DeCaf/models/rf.joblib\",\n",
        "      \"/content/drive/My Drive/documents/projects/DeCaf/models/lr.joblib\",\n",
        "      \"/content/drive/My Drive/documents/projects/DeCaf/models/gnb.joblib\",\n",
        "      \"/content/drive/My Drive/documents/projects/DeCaf/models/nn.joblib\",\n",
        "      \"/content/drive/My Drive/documents/projects/DeCaf/models/ab.joblib\",\n",
        "      \"/content/drive/My Drive/documents/projects/DeCaf/models/qda.joblib\",\n",
        "      \"/content/drive/My Drive/documents/projects/DeCaf/models/lsvm.joblib\",\n",
        "      \"/content/drive/My Drive/documents/projects/DeCaf/models/rbf_svm.joblib\"\n",
        "  ]\n",
        "  classifier_names = [\n",
        "      \"Nearest Neighbors\",\n",
        "      \"Decision Tree\",\n",
        "      \"Random Forest\",\n",
        "      \"Logistic Regression\",\n",
        "      \"Gaussian Naive Bayes\", \n",
        "      \"Neural Net\", \n",
        "      \"AdaBoost\",\n",
        "      \"QDA\",    \n",
        "      \"Linear SVM\", \n",
        "      \"RBF SVM\",\n",
        "  ]"
      ],
      "execution_count": 0,
      "outputs": []
    },
    {
      "cell_type": "code",
      "metadata": {
        "colab_type": "code",
        "id": "7GNT8gWU_fE6",
        "colab": {}
      },
      "source": [
        ""
      ],
      "execution_count": 0,
      "outputs": []
    },
    {
      "cell_type": "code",
      "metadata": {
        "id": "8v8IV28kXKX5",
        "colab_type": "code",
        "colab": {}
      },
      "source": [
        "import multiprocessing as mp\n",
        "from joblib import load\n",
        "from datetime import datetime as dt\n",
        "\n",
        "print(\"Available CPUs: \", mp.cpu_count())\n",
        "\n",
        "test_data_names = [\"SO test data\"]\n",
        "test_data = [X_T]\n",
        "test_label = [Y_T]\n",
        "\n",
        "\n",
        "for i, data in enumerate(test_data):\n",
        "  print(str(dt.now()) + \" Creating process for: \", test_data_names[i])\n",
        "  manager = mp.Manager()\n",
        "  auc = manager.dict()\n",
        "  jobs = []\n",
        "  for index, model_path in enumerate(model_paths):\n",
        "    model = load(model_path)\n",
        "    print(str(dt.now()) + \" Validating from: \", classifier_names[index])\n",
        "    p = mp.Process(target=auc_score, args=(test_data[i], test_label[i], model, index, auc))\n",
        "    jobs.append(p)\n",
        "    p.start()\n",
        "  \n",
        "  for proc in jobs:\n",
        "    proc.join()\n",
        "  \n",
        "  aucs = auc.values()\n",
        "  print(aucs)\n",
        "  print(\"------------------------------------------------------------------------------\")\n"
      ],
      "execution_count": 0,
      "outputs": []
    },
    {
      "cell_type": "code",
      "metadata": {
        "id": "omdg0IodEwcu",
        "colab_type": "code",
        "colab": {
          "base_uri": "https://localhost:8080/",
          "height": 54
        },
        "outputId": "8ba94f68-b8ca-4eac-c858-1f9cee24a433"
      },
      "source": [
        "print(auc)"
      ],
      "execution_count": 38,
      "outputs": [
        {
          "output_type": "stream",
          "text": [
            "{1: 0.7265999999999999, 3: 0.8298333333333333, 2: 0.8236333333333334, 4: 0.7815666666666667, 6: 0.7962333333333333, 7: 0.8016333333333332, 5: 0.8437, 9: 0.8468333333333333, 0: 0.7922333333333333, 8: 0.8116666666666666}\n"
          ],
          "name": "stdout"
        }
      ]
    },
    {
      "cell_type": "code",
      "metadata": {
        "id": "YBwgzRxz9Xkc",
        "colab_type": "code",
        "colab": {}
      },
      "source": [
        "import multiprocessing as mp\n",
        "\n",
        "print(\"Available CPUs: \", mp.cpu_count())\n",
        "\n",
        "if not os.path.exists(result_path):\n",
        "\n",
        "  table.field_names = classifier_names\n",
        "  logs = []\n",
        "  auc_scores = []\n",
        "  for index, model_path in enumerate(model_paths):\n",
        "    start_loading_time = dt.now()\n",
        "    print(str(start_loading_time) + \" Loading model: \", classifier_names[index])\n",
        "    logs.append(str(start_loading_time) + \" Loading model: \" + classifier_names[index])\n",
        "    model = load(model_path)\n",
        "    end_loading_time = dt.now()\n",
        "    print(str(end_loading_time) + \" Finished loading model: \", classifier_names[index])\n",
        "    logs.append(str(end_loading_time) + \" Finished loading model: \" + classifier_names[index])\n",
        "    start_time = dt.now()\n",
        "    print(str(start_time) + \" Start calculating AUC ROC using: \", classifier_names[index])\n",
        "    logs.append(str(start_time) + \" Start calculating AUC ROC using: \" + classifier_names[index])\n",
        "    auc_scores.append(auc_score(X_T, Y_T, model))\n",
        "    end_time = dt.now()\n",
        "    print(str(end_time) + \" Finished calculating AUC ROC using: \", classifier_names[index])\n",
        "    logs.append(str(end_time) + \" Finished calculating AUC ROC using: \" + classifier_names[index])\n",
        "    print(\"Calculation time: \", end_time - start_time)\n",
        "    logs.append(\"Calculation time: \" + end_time - start_time)\n",
        "    print(\"--------------------------------------------------------------------------------\")\n",
        "    log(\"/content/drive/My Drive/documents/projects/DeCaf/logs/model_performance.csv\", \\\n",
        "        \"\\n\".join(logs))\n",
        "\n",
        "  table.add_row(auc_scores)\n",
        "\n",
        "  print(table)\n",
        "  log_result(result_path, table.get_string())\n",
        "else:\n",
        "  print(\"Result persists at \", result_path)"
      ],
      "execution_count": 0,
      "outputs": []
    },
    {
      "cell_type": "markdown",
      "metadata": {
        "id": "oLFv8r8enaY-",
        "colab_type": "text"
      },
      "source": [
        "## Cross dataset validation of the models\n",
        "We are taking the following datasets to validate the models:\n",
        "- Brunet 2014 (brunet2014.csv)\n",
        "- Shakiba 2016 (shakiba2016.csv)\n",
        "- Viviani 2018 (viviani2018.csv)\n",
        "- Self Admitted Technical Debt/ SATD (satd.csv)\n",
        "- Stack Overflow (so.csv)"
      ]
    },
    {
      "cell_type": "code",
      "metadata": {
        "colab_type": "code",
        "id": "GruohJ5b1rbc",
        "colab": {}
      },
      "source": [
        "cross_dataset_names = [\"Brunet 2014\", \n",
        "                       \"Shakiba 2016\", \"Viviani 2018\",\n",
        "                       \"SATD\"]"
      ],
      "execution_count": 0,
      "outputs": []
    },
    {
      "cell_type": "markdown",
      "metadata": {
        "id": "L24EjgKXpJY1",
        "colab_type": "text"
      },
      "source": [
        "### Vectorize and Save the data"
      ]
    },
    {
      "cell_type": "code",
      "metadata": {
        "id": "fCM9TJfzpZeq",
        "colab_type": "code",
        "outputId": "7f9b2f52-de6c-4bf9-8022-4d2160c2d83f",
        "colab": {
          "base_uri": "https://localhost:8080/",
          "height": 52
        }
      },
      "source": [
        "X_brunet2014 = \n",
        "Y_brunet2014 = \n",
        "print(X_brunet2014.shape)\n",
        "print(Y_brunet2014.shape)"
      ],
      "execution_count": 0,
      "outputs": [
        {
          "output_type": "stream",
          "text": [
            "(159, 300)\n",
            "(159,)\n"
          ],
          "name": "stdout"
        }
      ]
    },
    {
      "cell_type": "code",
      "metadata": {
        "id": "VXLiNFapsIbQ",
        "colab_type": "code",
        "colab": {}
      },
      "source": [
        "X_shakiba2016 = \n",
        "Y_shakiba2016 = \n",
        "print(X_shakiba2016.shape)\n",
        "print(Y_shakiba2016.shape)"
      ],
      "execution_count": 0,
      "outputs": []
    },
    {
      "cell_type": "code",
      "metadata": {
        "id": "TKuvSBTGsJG8",
        "colab_type": "code",
        "colab": {}
      },
      "source": [
        "X_viviani2018 = \n",
        "Y_viviani2018 = \n",
        "print(X_viviani2018.shape)\n",
        "print(Y_viviani2018.shape)"
      ],
      "execution_count": 0,
      "outputs": []
    },
    {
      "cell_type": "code",
      "metadata": {
        "id": "CJvSgex_sJgs",
        "colab_type": "code",
        "colab": {}
      },
      "source": [
        "X_satd = \n",
        "Y_satd = \n",
        "print(X_satd.shape)\n",
        "print(Y_satd.shape)"
      ],
      "execution_count": 0,
      "outputs": []
    },
    {
      "cell_type": "code",
      "metadata": {
        "id": "xgaq6VXPsJ-_",
        "colab_type": "code",
        "colab": {}
      },
      "source": [
        "X_so = \n",
        "Y_so = \n",
        "print(X_so.shape)\n",
        "print(Y_so.shape)"
      ],
      "execution_count": 0,
      "outputs": []
    },
    {
      "cell_type": "markdown",
      "metadata": {
        "id": "hsuSsmFCtf2J",
        "colab_type": "text"
      },
      "source": [
        "### Validate with the Trained models"
      ]
    },
    {
      "cell_type": "code",
      "metadata": {
        "id": "9aWuwFIZtlLj",
        "colab_type": "code",
        "outputId": "70129767-7893-47f4-ea28-32d87328aedb",
        "colab": {
          "base_uri": "https://localhost:8080/",
          "height": 260
        }
      },
      "source": [
        "test_data = [X_brunet2014, \n",
        "             X_shakiba2016, X_viviani2018, X_satd]\n",
        "test_label = [Y_brunet2014, \n",
        "              Y_shakiba2016, Y_viviani2018, Y_satd]\n",
        "\n",
        "table = PrettyTable()\n",
        "table.field_names = [\" \"] + cross_dataset_names\n",
        "\n",
        "for index, model_path in enumerate(model_paths):\n",
        "  logs = []\n",
        "  print(str(dt.now()) + \" Start loading model: \", classifier_names[index])\n",
        "  logs.append(str(dt.now()) + \" Start loading model: \" + classifier_names[index])\n",
        "  model = load(model_path)\n",
        "  row = [classifier_names[index]]\n",
        "  for i, data in enumerate(test_data):\n",
        "    start_time = dt.now()\n",
        "    print(str(start_time) + \" Start evaluating \", cross_dataset_names[i])\n",
        "    row.append(auc_score(data, test_label[i], model))\n",
        "    end_time = dt.now()\n",
        "    print(str(end_time) + \" Finished evaluating \", cross_dataset_names[i])\n",
        "    total_time = end_time - start_time\n",
        "    logs.append(\"Evaluation time: \" + str(total_time))\n",
        "  log(\"/content/drive/My Drive/documents/projects/DeCaf/logs/cross_data_evaluation.csv\", \\\n",
        "      \"\\n\".join(logs))\n",
        "  print(row)\n",
        "  table.add_row(row)\n",
        "\n",
        "print(table)\n",
        "log_result(\"/content/drive/My Drive/documents/projects/DeCaf/results/cross_data.txt\", table.get_string())"
      ],
      "execution_count": 0,
      "outputs": [
        {
          "output_type": "stream",
          "text": [
            "2020-04-05 05:49:26.042347 Start loading model:  Decision Tree\n",
            "2020-04-05 05:49:26.734873 Start evaluating  Brunet 2014\n",
            "2020-04-05 05:49:26.737550 Finished evaluating  Brunet 2014\n",
            "['Decision Tree', 0.4989963198394112]\n",
            "2020-04-05 05:49:26.743836 Start loading model:  Random Forest\n",
            "2020-04-05 05:49:29.653865 Start evaluating  Brunet 2014\n",
            "2020-04-05 05:49:29.758631 Finished evaluating  Brunet 2014\n",
            "['Random Forest', 0.49489795918367346]\n",
            "+---------------+---------------------+\n",
            "|               |     Brunet 2014     |\n",
            "+---------------+---------------------+\n",
            "| Decision Tree |  0.4989963198394112 |\n",
            "| Random Forest | 0.49489795918367346 |\n",
            "+---------------+---------------------+\n"
          ],
          "name": "stdout"
        }
      ]
    }
  ]
}