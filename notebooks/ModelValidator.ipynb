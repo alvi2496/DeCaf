{
  "nbformat": 4,
  "nbformat_minor": 0,
  "metadata": {
    "colab": {
      "name": "ModelValidator.ipynb",
      "provenance": [],
      "collapsed_sections": [],
      "machine_shape": "hm"
    },
    "kernelspec": {
      "name": "python3",
      "display_name": "Python 3"
    }
  },
  "cells": [
    {
      "cell_type": "markdown",
      "metadata": {
        "id": "ue-brQOCOR4A",
        "colab_type": "text"
      },
      "source": [
        "# Notebook for the experiment of building **DeCaf** (**De**sign **C**l**a**ssi**f**ier)"
      ]
    },
    {
      "cell_type": "markdown",
      "metadata": {
        "id": "F_wliyuuasNx",
        "colab_type": "text"
      },
      "source": [
        "## Architectural Overview/Design\n",
        "In Progress"
      ]
    },
    {
      "cell_type": "markdown",
      "metadata": {
        "id": "0Up9iaDnZM9l",
        "colab_type": "text"
      },
      "source": [
        "## Objective\n",
        "The main objective is to validate the model with various test data"
      ]
    },
    {
      "cell_type": "code",
      "metadata": {
        "id": "6A-ie768Gp-2",
        "colab_type": "code",
        "outputId": "329211ce-7334-46ba-a3f4-09b60423dfe2",
        "colab": {
          "base_uri": "https://localhost:8080/",
          "height": 35
        }
      },
      "source": [
        "from google.colab import drive\n",
        "drive.mount(\"/content/drive\")"
      ],
      "execution_count": 0,
      "outputs": [
        {
          "output_type": "stream",
          "text": [
            "Drive already mounted at /content/drive; to attempt to forcibly remount, call drive.mount(\"/content/drive\", force_remount=True).\n"
          ],
          "name": "stdout"
        }
      ]
    },
    {
      "cell_type": "code",
      "metadata": {
        "id": "VKsVKbYpOjpJ",
        "colab_type": "code",
        "colab": {}
      },
      "source": [
        "# All the imports\n",
        "import pandas as pd\n",
        "from sklearn import metrics\n",
        "import numpy as np\n",
        "import multiprocessing as mp\n",
        "from joblib import load\n",
        "from datetime import datetime as dt\n",
        "from prettytable import PrettyTable\n",
        "import os"
      ],
      "execution_count": 0,
      "outputs": []
    },
    {
      "cell_type": "code",
      "metadata": {
        "id": "WZJA1VBBRD2P",
        "colab_type": "code",
        "colab": {}
      },
      "source": [
        "# Control Parameters\n",
        "dm_test_validation = True\n",
        "dm_cross_validation = False"
      ],
      "execution_count": 0,
      "outputs": []
    },
    {
      "cell_type": "code",
      "metadata": {
        "id": "baLKIxbT4RbN",
        "colab_type": "code",
        "colab": {}
      },
      "source": [
        "# Addtional messages to keep track of the results\n",
        "dm_test_message = \"with 300D enhanced_we + so injected train data\"\n",
        "dm_cross_message = \"with 300D enhanced_we + so injected train data + so injected test data\""
      ],
      "execution_count": 0,
      "outputs": []
    },
    {
      "cell_type": "code",
      "metadata": {
        "id": "b8H39Gum_Jy_",
        "colab_type": "code",
        "colab": {}
      },
      "source": [
        "def log(log_file_path, message):\n",
        "  file = pd.DataFrame([[str(dt.now()), 'info', message]], columns=['timestamp', 'type', 'message'])\n",
        "  if not os.path.exists(log_file_path):\n",
        "    file.to_csv(log_file_path)\n",
        "  else:\n",
        "    file.to_csv(log_file_path, mode='a', header=False)\n",
        "\n",
        "def log_result(log_file_path, message):\n",
        "  f = open(log_file_path, \"a\")\n",
        "  f.write(str(dt.now()))\n",
        "  f.write(message)\n",
        "  f.close"
      ],
      "execution_count": 0,
      "outputs": []
    },
    {
      "cell_type": "code",
      "metadata": {
        "id": "dLxh9uyZN4Kf",
        "colab_type": "code",
        "colab": {}
      },
      "source": [
        "def auc_score(X, Y, model, process_number, auc):\n",
        "  pred = model.predict(X)\n",
        "  auc[process_number] = metrics.roc_auc_score(Y, pred)"
      ],
      "execution_count": 0,
      "outputs": []
    },
    {
      "cell_type": "markdown",
      "metadata": {
        "id": "TQKN9WbuOIus",
        "colab_type": "text"
      },
      "source": [
        "## Load the data mining models and calculate the **ROC AUC** score"
      ]
    },
    {
      "cell_type": "code",
      "metadata": {
        "id": "n01kigvy_IIV",
        "colab_type": "code",
        "colab": {}
      },
      "source": [
        "  model_paths = [\n",
        "      \"/content/drive/My Drive/documents/projects/DeCaf/models/knn.joblib\",\n",
        "      \"/content/drive/My Drive/documents/projects/DeCaf/models/dt.joblib\",\n",
        "      \"/content/drive/My Drive/documents/projects/DeCaf/models/rf.joblib\",\n",
        "      \"/content/drive/My Drive/documents/projects/DeCaf/models/lr.joblib\",\n",
        "      \"/content/drive/My Drive/documents/projects/DeCaf/models/gnb.joblib\",\n",
        "      \"/content/drive/My Drive/documents/projects/DeCaf/models/nn.joblib\",\n",
        "      \"/content/drive/My Drive/documents/projects/DeCaf/models/ab.joblib\",\n",
        "      \"/content/drive/My Drive/documents/projects/DeCaf/models/qda.joblib\",\n",
        "      \"/content/drive/My Drive/documents/projects/DeCaf/models/lsvm.joblib\",\n",
        "      \"/content/drive/My Drive/documents/projects/DeCaf/models/rbf_svm.joblib\"\n",
        "  ]\n",
        "  classifier_names = [\n",
        "      \"Nearest Neighbors\",\n",
        "      \"Decision Tree\",\n",
        "      \"Random Forest\",\n",
        "      \"Logistic Regression\",\n",
        "      \"Gaussian Naive Bayes\", \n",
        "      \"Neural Net\", \n",
        "      \"AdaBoost\",\n",
        "      \"QDA\",    \n",
        "      \"Linear SVM\", \n",
        "      \"RBF SVM\",\n",
        "  ]"
      ],
      "execution_count": 0,
      "outputs": []
    },
    {
      "cell_type": "code",
      "metadata": {
        "colab_type": "code",
        "id": "7GNT8gWU_fE6",
        "colab": {}
      },
      "source": [
        "def validate_dm_models(test_data_names, test_data, test_labels, logs, msg=\"\"):\n",
        "\n",
        "  table = PrettyTable()\n",
        "  table.field_names = ['Dataset'] + classifier_names\n",
        "  performance_log = []\n",
        "  logs.append(\"Validated at: \" + str(dt.now()) + \" \" + msg)\n",
        "  for i, data in enumerate(test_data):\n",
        "    aucs = []\n",
        "    print(str(dt.now()) + \" Creating process for: \", test_data_names[i])\n",
        "    # logs.append(str(dt.now()) + \" Creating process for: \" + test_data_names[i])\n",
        "    manager = mp.Manager()\n",
        "    auc = manager.dict()\n",
        "    jobs = []\n",
        "    for index, model_path in enumerate(model_paths):\n",
        "      model = load(model_path)\n",
        "      print(str(dt.now()) + \" Validating from: \", classifier_names[index])\n",
        "      # logs.append(str(dt.now()) + \" Validating from: \" + classifier_names[index])\n",
        "      p = mp.Process(target=auc_score, args=(test_data[i], \\\n",
        "                                             test_labels[i], model, index, auc))\n",
        "      jobs.append(p)\n",
        "      p.start()\n",
        "    \n",
        "    for proc in jobs:\n",
        "      proc.join()\n",
        "    \n",
        "    for index, name in enumerate(classifier_names):\n",
        "      aucs.append(round(auc[index], 4))\n",
        "\n",
        "    table.add_row([test_data_names[i]] + aucs)\n",
        "  \n",
        "  print(table)\n",
        "  logs.append(dm_test_message)\n",
        "  logs.append(table.get_string())"
      ],
      "execution_count": 0,
      "outputs": []
    },
    {
      "cell_type": "markdown",
      "metadata": {
        "id": "ljPxEs-4Ngx0",
        "colab_type": "text"
      },
      "source": [
        "## Validate the models\n",
        "- We use Area Under the Receiver Operating Characteristic Curve (**ROC AUC**) from prediction scores as the validation criteria."
      ]
    },
    {
      "cell_type": "markdown",
      "metadata": {
        "id": "tEj1rF_93pRq",
        "colab_type": "text"
      },
      "source": [
        "### Load test data"
      ]
    },
    {
      "cell_type": "code",
      "metadata": {
        "id": "J_qzpOVv3onz",
        "colab_type": "code",
        "colab": {}
      },
      "source": [
        "X_T = np.load(\"/content/drive/My Drive/documents/projects/DeCaf/data/test_data/so_injected/X_T.npy\")\n",
        "Y_T = np.load(\"/content/drive/My Drive/documents/projects/DeCaf/data/test_data/so_injected/Y_T.npy\")"
      ],
      "execution_count": 0,
      "outputs": []
    },
    {
      "cell_type": "markdown",
      "metadata": {
        "id": "Vjv-_GPbW9Fn",
        "colab_type": "text"
      },
      "source": [
        "### Validate the trained models"
      ]
    },
    {
      "cell_type": "code",
      "metadata": {
        "id": "87RQYCk9eNJU",
        "colab_type": "code",
        "outputId": "981bb33f-b014-4280-bb7a-33acfbeee977",
        "colab": {
          "base_uri": "https://localhost:8080/",
          "height": 303
        }
      },
      "source": [
        "result_path = \"/content/drive/My Drive/documents/projects/DeCaf/results/test_data.txt\"\n",
        "\n",
        "if os.path.exists(result_path) and not dm_test_validation:\n",
        "  with open(result_path, \"r\") as f:\n",
        "    print(f.read())\n",
        "else:\n",
        "  logs = []\n",
        "  test_data_names = [\"SO test data\"]\n",
        "  test_data = [X_T]\n",
        "  test_labels = [Y_T]\n",
        "  validate_dm_models(test_data_names, test_data, test_labels, logs, dm_test_message)\n",
        "  with open(result_path, \"a+\") as f:\n",
        "    f.write(\"\\n\".join(logs) + \"\\n\")"
      ],
      "execution_count": 0,
      "outputs": [
        {
          "output_type": "stream",
          "text": [
            "2020-04-24 02:17:32.778112 Creating process for:  SO test data\n",
            "2020-04-24 02:17:43.240453 Validating from:  Nearest Neighbors\n",
            "2020-04-24 02:17:43.812933 Validating from:  Decision Tree\n",
            "2020-04-24 02:17:47.175537 Validating from:  Random Forest\n",
            "2020-04-24 02:17:47.624222 Validating from:  Logistic Regression\n",
            "2020-04-24 02:17:47.994030 Validating from:  Gaussian Naive Bayes\n",
            "2020-04-24 02:17:48.309050 Validating from:  Neural Net\n",
            "2020-04-24 02:17:48.674579 Validating from:  AdaBoost\n",
            "2020-04-24 02:17:49.010689 Validating from:  QDA\n",
            "2020-04-24 02:17:53.018087 Validating from:  Linear SVM\n",
            "2020-04-24 02:17:56.094725 Validating from:  RBF SVM\n",
            "+--------------+-------------------+---------------+---------------+---------------------+----------------------+------------+----------+--------+------------+---------+\n",
            "|   Dataset    | Nearest Neighbors | Decision Tree | Random Forest | Logistic Regression | Gaussian Naive Bayes | Neural Net | AdaBoost |  QDA   | Linear SVM | RBF SVM |\n",
            "+--------------+-------------------+---------------+---------------+---------------------+----------------------+------------+----------+--------+------------+---------+\n",
            "| SO test data |       0.8174      |     0.7416    |     0.8377    |        0.8438       |        0.7993        |   0.8677   |  0.8191  | 0.8112 |   0.8202   |  0.8538 |\n",
            "+--------------+-------------------+---------------+---------------+---------------------+----------------------+------------+----------+--------+------------+---------+\n"
          ],
          "name": "stdout"
        }
      ]
    },
    {
      "cell_type": "markdown",
      "metadata": {
        "id": "oLFv8r8enaY-",
        "colab_type": "text"
      },
      "source": [
        "## Cross dataset validation of the models\n",
        "We are taking the following datasets to validate the models:\n",
        "- Brunet 2014 (brunet2014.csv)\n",
        "- Shakiba 2016 (shakiba2016.csv)\n",
        "- Viviani 2018 (viviani2018.csv)\n",
        "- Self Admitted Technical Debt/ SATD (satd.csv)\n",
        "- Stack Overflow (so.csv)"
      ]
    },
    {
      "cell_type": "code",
      "metadata": {
        "colab_type": "code",
        "id": "GruohJ5b1rbc",
        "colab": {}
      },
      "source": [
        "cross_dataset_names = [\"Brunet 2014\", \n",
        "                       \"Shakiba 2016\", \"Viviani 2018\",\n",
        "                       \"SATD\"]"
      ],
      "execution_count": 0,
      "outputs": []
    },
    {
      "cell_type": "markdown",
      "metadata": {
        "id": "L24EjgKXpJY1",
        "colab_type": "text"
      },
      "source": [
        "### Load the data Vectors"
      ]
    },
    {
      "cell_type": "code",
      "metadata": {
        "id": "fCM9TJfzpZeq",
        "colab_type": "code",
        "outputId": "631536fe-40d0-43cf-fa12-0e8836e6e5b4",
        "colab": {
          "base_uri": "https://localhost:8080/",
          "height": 53
        }
      },
      "source": [
        "X_brunet2014 = np.load(\"/content/drive/My Drive/documents/projects/DeCaf/data/cross_data/so_vocab_injected/X_brunet2014.npy\")\n",
        "Y_brunet2014 = np.load(\"/content/drive/My Drive/documents/projects/DeCaf/data/cross_data/so_vocab_injected/Y_brunet2014.npy\")\n",
        "print(X_brunet2014.shape)\n",
        "print(Y_brunet2014.shape)"
      ],
      "execution_count": 0,
      "outputs": [
        {
          "output_type": "stream",
          "text": [
            "(159, 300)\n",
            "(159,)\n"
          ],
          "name": "stdout"
        }
      ]
    },
    {
      "cell_type": "code",
      "metadata": {
        "id": "VXLiNFapsIbQ",
        "colab_type": "code",
        "outputId": "ff9b2a3f-2a30-4769-9428-b8f2eb56524f",
        "colab": {
          "base_uri": "https://localhost:8080/",
          "height": 53
        }
      },
      "source": [
        "X_shakiba2016 = np.load(\"/content/drive/My Drive/documents/projects/DeCaf/data/cross_data/so_vocab_injected/X_shakiba2016.npy\")\n",
        "Y_shakiba2016 = np.load(\"/content/drive/My Drive/documents/projects/DeCaf/data/cross_data/so_vocab_injected/Y_shakiba2016.npy\")\n",
        "print(X_shakiba2016.shape)\n",
        "print(Y_shakiba2016.shape)"
      ],
      "execution_count": 0,
      "outputs": [
        {
          "output_type": "stream",
          "text": [
            "(67, 300)\n",
            "(67,)\n"
          ],
          "name": "stdout"
        }
      ]
    },
    {
      "cell_type": "code",
      "metadata": {
        "id": "TKuvSBTGsJG8",
        "colab_type": "code",
        "outputId": "29d5b6cc-a0af-458f-ff59-604f871d45f6",
        "colab": {
          "base_uri": "https://localhost:8080/",
          "height": 53
        }
      },
      "source": [
        "X_viviani2018 = np.load(\"/content/drive/My Drive/documents/projects/DeCaf/data/cross_data/so_vocab_injected/X_viviani2018.npy\")\n",
        "Y_viviani2018 = np.load(\"/content/drive/My Drive/documents/projects/DeCaf/data/cross_data/so_vocab_injected/Y_viviani2018.npy\")\n",
        "print(X_viviani2018.shape)\n",
        "print(Y_viviani2018.shape)"
      ],
      "execution_count": 0,
      "outputs": [
        {
          "output_type": "stream",
          "text": [
            "(1969, 300)\n",
            "(1969,)\n"
          ],
          "name": "stdout"
        }
      ]
    },
    {
      "cell_type": "code",
      "metadata": {
        "id": "CJvSgex_sJgs",
        "colab_type": "code",
        "outputId": "db7becb7-50d6-4207-e083-6117d8755838",
        "colab": {
          "base_uri": "https://localhost:8080/",
          "height": 53
        }
      },
      "source": [
        "X_satd = np.load(\"/content/drive/My Drive/documents/projects/DeCaf/data/cross_data/so_vocab_injected/X_satd.npy\")\n",
        "Y_satd = np.load(\"/content/drive/My Drive/documents/projects/DeCaf/data/cross_data/so_vocab_injected/Y_satd.npy\")\n",
        "print(X_satd.shape)\n",
        "print(Y_satd.shape)"
      ],
      "execution_count": 0,
      "outputs": [
        {
          "output_type": "stream",
          "text": [
            "(2609, 300)\n",
            "(2609,)\n"
          ],
          "name": "stdout"
        }
      ]
    },
    {
      "cell_type": "code",
      "metadata": {
        "id": "xgaq6VXPsJ-_",
        "colab_type": "code",
        "colab": {}
      },
      "source": [
        "# X_so = \n",
        "# Y_so = \n",
        "# print(X_so.shape)\n",
        "# print(Y_so.shape)"
      ],
      "execution_count": 0,
      "outputs": []
    },
    {
      "cell_type": "markdown",
      "metadata": {
        "id": "hsuSsmFCtf2J",
        "colab_type": "text"
      },
      "source": [
        "### Validate with the Trained models"
      ]
    },
    {
      "cell_type": "code",
      "metadata": {
        "id": "9aWuwFIZtlLj",
        "colab_type": "code",
        "outputId": "669674e5-21d9-4ac2-cd6d-77971bf7aa4b",
        "colab": {
          "base_uri": "https://localhost:8080/",
          "height": 839
        }
      },
      "source": [
        "result_path = \"/content/drive/My Drive/documents/projects/DeCaf/results/cross_data.txt\"\n",
        "\n",
        "if os.path.exists(result_path) and not dm_cross_validation:\n",
        "  with open(result_path, \"r\") as f:\n",
        "    print(f.read())\n",
        "else:\n",
        "  logs = []\n",
        "  test_data_names = [\"SO test data\"]\n",
        "  test_data = [X_brunet2014, \n",
        "             X_shakiba2016, X_viviani2018, X_satd]\n",
        "  test_labels = [Y_brunet2014, \n",
        "                Y_shakiba2016, Y_viviani2018, Y_satd]\n",
        "  validate_dm_models(cross_dataset_names, test_data, test_labels, logs, dm_cross_message)\n",
        "  with open(result_path, \"a+\") as f:\n",
        "    f.write(\"\\n\".join(logs) + \"\\n\")\n"
      ],
      "execution_count": 0,
      "outputs": [
        {
          "output_type": "stream",
          "text": [
            "Validated at: 2020-04-07 17:56:56.396232 With 300D we + word injected data with pretrained SO\n",
            "+--------------+-------------------+---------------+---------------+---------------------+----------------------+------------+----------+-----+------------+---------+\n",
            "|   Dataset    | Nearest Neighbors | Decision Tree | Random Forest | Logistic Regression | Gaussian Naive Bayes | Neural Net | AdaBoost | QDA | Linear SVM | RBF SVM |\n",
            "+--------------+-------------------+---------------+---------------+---------------------+----------------------+------------+----------+-----+------------+---------+\n",
            "| Brunet 2014  |       0.4982      |     0.4752    |     0.5195    |         0.5         |         0.5          |   0.5328   |  0.5144  | 0.5 |    0.5     |   0.5   |\n",
            "| Shakiba 2016 |       0.5481      |     0.4252    |      0.5      |         0.5         |         0.5          |   0.5081   |  0.5324  | 0.5 |    0.5     |   0.5   |\n",
            "| Viviani 2018 |       0.4994      |     0.4978    |     0.4969    |         0.5         |         0.5          |   0.5033   |  0.4973  | 0.5 |    0.5     |   0.5   |\n",
            "|     SATD     |       0.5051      |     0.4981    |     0.4946    |         0.5         |         0.5          |   0.4899   |   0.5    | 0.5 |    0.5     |   0.5   |\n",
            "+--------------+-------------------+---------------+---------------+---------------------+----------------------+------------+----------+-----+------------+---------+\n",
            "Validated at: 2020-04-08 02:54:06.154173 with 200D enhanced_we + word injected data with pretrained SO\n",
            "+--------------+-------------------+---------------+---------------+---------------------+----------------------+------------+----------+--------+------------+---------+\n",
            "|   Dataset    | Nearest Neighbors | Decision Tree | Random Forest | Logistic Regression | Gaussian Naive Bayes | Neural Net | AdaBoost |  QDA   | Linear SVM | RBF SVM |\n",
            "+--------------+-------------------+---------------+---------------+---------------------+----------------------+------------+----------+--------+------------+---------+\n",
            "| Brunet 2014  |       0.6587      |     0.5437    |     0.6149    |        0.7207       |        0.626         |   0.7215   |  0.6836  | 0.7266 |   0.7738   |  0.741  |\n",
            "| Shakiba 2016 |       0.6776      |     0.5571    |      0.58     |        0.6605       |        0.6081        |   0.6205   |  0.6681  |  0.6   |   0.6805   |  0.6443 |\n",
            "| Viviani 2018 |       0.5333      |     0.5224    |     0.5214    |        0.5305       |        0.5486        |   0.5133   |  0.5467  | 0.566  |   0.5467   |  0.529  |\n",
            "|     SATD     |       0.6141      |     0.536     |     0.5496    |        0.5873       |        0.559         |   0.5665   |  0.5574  | 0.6074 |   0.5884   |  0.5791 |\n",
            "+--------------+-------------------+---------------+---------------+---------------------+----------------------+------------+----------+--------+------------+---------+\n",
            "Validated at: 2020-04-09 23:30:33.142159 with 300D enhanced_we + word injected data with pretrained SO\n",
            "+--------------+-------------------+---------------+---------------+---------------------+----------------------+------------+----------+--------+------------+---------+\n",
            "|   Dataset    | Nearest Neighbors | Decision Tree | Random Forest | Logistic Regression | Gaussian Naive Bayes | Neural Net | AdaBoost |  QDA   | Linear SVM | RBF SVM |\n",
            "+--------------+-------------------+---------------+---------------+---------------------+----------------------+------------+----------+--------+------------+---------+\n",
            "| Brunet 2014  |       0.6935      |     0.6338    |     0.7071    |        0.7063       |        0.6322        |   0.6561   |  0.7974  | 0.7031 |   0.7503   |  0.7073 |\n",
            "| Shakiba 2016 |       0.6657      |     0.3976    |      0.7      |        0.6567       |        0.6362        |   0.5648   |  0.7367  | 0.6281 |   0.7124   |  0.6724 |\n",
            "| Viviani 2018 |       0.5407      |     0.5273    |     0.5373    |        0.5159       |        0.5688        |   0.5177   |  0.5333  | 0.5634 |   0.5329   |  0.5173 |\n",
            "|     SATD     |       0.6058      |     0.5221    |     0.5597    |        0.5742       |        0.5754        |   0.6026   |  0.5804  | 0.6188 |   0.5614   |  0.5753 |\n",
            "+--------------+-------------------+---------------+---------------+---------------------+----------------------+------------+----------+--------+------------+---------+\n",
            "Validated at: 2020-04-13 18:30:24.191365 with 300D enhanced_we + word injected data with pretrained SO\n",
            "+--------------+-------------------+---------------+---------------+---------------------+----------------------+------------+----------+--------+------------+---------+\n",
            "|   Dataset    | Nearest Neighbors | Decision Tree | Random Forest | Logistic Regression | Gaussian Naive Bayes | Neural Net | AdaBoost |  QDA   | Linear SVM | RBF SVM |\n",
            "+--------------+-------------------+---------------+---------------+---------------------+----------------------+------------+----------+--------+------------+---------+\n",
            "| Brunet 2014  |       0.6935      |     0.6338    |     0.7071    |        0.7063       |        0.6322        |   0.6561   |  0.7974  | 0.7031 |   0.7503   |  0.7073 |\n",
            "| Shakiba 2016 |       0.6657      |     0.3976    |      0.7      |        0.6567       |        0.6362        |   0.5648   |  0.7367  | 0.6281 |   0.7124   |  0.6724 |\n",
            "| Viviani 2018 |       0.5407      |     0.5273    |     0.5373    |        0.5159       |        0.5688        |   0.5177   |  0.5333  | 0.5634 |   0.5329   |  0.5173 |\n",
            "|     SATD     |       0.6058      |     0.5221    |     0.5597    |        0.5742       |        0.5754        |   0.6026   |  0.5804  | 0.6188 |   0.5614   |  0.5753 |\n",
            "+--------------+-------------------+---------------+---------------+---------------------+----------------------+------------+----------+--------+------------+---------+\n",
            "Validated at: 2020-04-20 21:19:18.528172 with 300D enhanced_we + so injected train data + so injected test data\n",
            "+--------------+-------------------+---------------+---------------+---------------------+----------------------+------------+----------+--------+------------+---------+\n",
            "|   Dataset    | Nearest Neighbors | Decision Tree | Random Forest | Logistic Regression | Gaussian Naive Bayes | Neural Net | AdaBoost |  QDA   | Linear SVM | RBF SVM |\n",
            "+--------------+-------------------+---------------+---------------+---------------------+----------------------+------------+----------+--------+------------+---------+\n",
            "| Brunet 2014  |       0.7344      |     0.6411    |     0.737     |        0.7894       |        0.6322        |   0.6963   |  0.7032  | 0.7255 |   0.7934   |  0.7411 |\n",
            "| Shakiba 2016 |       0.6538      |     0.5376    |     0.6962    |        0.7286       |        0.6562        |   0.5614   |  0.629   |  0.6   |   0.7329   |  0.6724 |\n",
            "| Viviani 2018 |       0.5302      |     0.5454    |     0.5519    |        0.5426       |        0.5826        |   0.5086   |  0.5556  | 0.5589 |   0.5564   |  0.5318 |\n",
            "|     SATD     |       0.6186      |     0.5378    |      0.58     |        0.6168       |        0.5801        |   0.6067   |  0.5759  | 0.5769 |   0.6098   |  0.5902 |\n",
            "+--------------+-------------------+---------------+---------------+---------------------+----------------------+------------+----------+--------+------------+---------+\n",
            "\n"
          ],
          "name": "stdout"
        }
      ]
    }
  ]
}