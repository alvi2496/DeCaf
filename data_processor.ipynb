{
  "nbformat": 4,
  "nbformat_minor": 0,
  "metadata": {
    "colab": {
      "name": "data processor.ipynb",
      "provenance": [],
      "collapsed_sections": [],
      "authorship_tag": "ABX9TyOBVSfGjzUc7XilFd4XfVos"
    },
    "kernelspec": {
      "name": "python3",
      "display_name": "Python 3"
    }
  },
  "cells": [
    {
      "cell_type": "code",
      "metadata": {
        "id": "nqXR4yc_4nL-",
        "colab_type": "code",
        "colab": {}
      },
      "source": [
        "from google.colab import drive\n",
        "drive.mount(\"/content/drive\")"
      ],
      "execution_count": 0,
      "outputs": []
    },
    {
      "cell_type": "code",
      "metadata": {
        "id": "eDpzuyvM4-Ip",
        "colab_type": "code",
        "colab": {}
      },
      "source": [
        "import pandas as pd"
      ],
      "execution_count": 0,
      "outputs": []
    },
    {
      "cell_type": "code",
      "metadata": {
        "id": "1LhDO7u05dtD",
        "colab_type": "code",
        "colab": {
          "base_uri": "https://localhost:8080/",
          "height": 153
        },
        "outputId": "e4ce4221-ca8f-451d-e0d3-ef179723ed02"
      },
      "source": [
        "df = pd.read_csv(\"/content/drive/My Drive/UVic-RA/DeCaf/data/raw_train_data.csv\")\n",
        "print(df.head())"
      ],
      "execution_count": 3,
      "outputs": [
        {
          "output_type": "stream",
          "text": [
            "                                                 url  ...   label\n",
            "0  /questions/60662905/how-i-can-return-an-instan...  ...  design\n",
            "1  /questions/60662522/sql-postgresql-design-sugg...  ...  design\n",
            "2  /questions/60660432/java-gson-json-serializers...  ...  design\n",
            "3  /questions/60659995/why-are-the-props-onclose-...  ...  design\n",
            "4  /questions/60658454/how-to-handle-multiple-api...  ...  design\n",
            "\n",
            "[5 rows x 6 columns]\n"
          ],
          "name": "stdout"
        }
      ]
    },
    {
      "cell_type": "code",
      "metadata": {
        "id": "EWsd_Erz_Esr",
        "colab_type": "code",
        "colab": {}
      },
      "source": [
        "def process(data, target, label, n=10):\n",
        "  data = data[[target, 'label']]\n",
        "  data = data[data['label'] == label]\n",
        "  data = data.dropna()\n",
        "  data = data[data[target].str.count(\" \") > 9]\n",
        "  return data"
      ],
      "execution_count": 0,
      "outputs": []
    },
    {
      "cell_type": "code",
      "metadata": {
        "id": "d7C8gGZw7L9U",
        "colab_type": "code",
        "colab": {
          "base_uri": "https://localhost:8080/",
          "height": 221
        },
        "outputId": "ffc0822f-88f9-49ec-9d55-f0c01c918a16"
      },
      "source": [
        "qd = process(df, 'question', 'design')\n",
        "print(qd.shape)\n",
        "qd.head()"
      ],
      "execution_count": 51,
      "outputs": [
        {
          "output_type": "stream",
          "text": [
            "(68721, 2)\n"
          ],
          "name": "stdout"
        },
        {
          "output_type": "execute_result",
          "data": {
            "text/html": [
              "<div>\n",
              "<style scoped>\n",
              "    .dataframe tbody tr th:only-of-type {\n",
              "        vertical-align: middle;\n",
              "    }\n",
              "\n",
              "    .dataframe tbody tr th {\n",
              "        vertical-align: top;\n",
              "    }\n",
              "\n",
              "    .dataframe thead th {\n",
              "        text-align: right;\n",
              "    }\n",
              "</style>\n",
              "<table border=\"1\" class=\"dataframe\">\n",
              "  <thead>\n",
              "    <tr style=\"text-align: right;\">\n",
              "      <th></th>\n",
              "      <th>question</th>\n",
              "      <th>label</th>\n",
              "    </tr>\n",
              "  </thead>\n",
              "  <tbody>\n",
              "    <tr>\n",
              "      <th>0</th>\n",
              "      <td>return instance class using builder pattern tr...</td>\n",
              "      <td>design</td>\n",
              "    </tr>\n",
              "    <tr>\n",
              "      <th>1</th>\n",
              "      <td>design multiple references object acting sibli...</td>\n",
              "      <td>design</td>\n",
              "    </tr>\n",
              "    <tr>\n",
              "      <th>2</th>\n",
              "      <td>java using design patterns working desktop mus...</td>\n",
              "      <td>design</td>\n",
              "    </tr>\n",
              "    <tr>\n",
              "      <th>3</th>\n",
              "      <td>props close marked required understand need pr...</td>\n",
              "      <td>design</td>\n",
              "    </tr>\n",
              "    <tr>\n",
              "      <th>4</th>\n",
              "      <td>handle multiple having purpose closed want imp...</td>\n",
              "      <td>design</td>\n",
              "    </tr>\n",
              "  </tbody>\n",
              "</table>\n",
              "</div>"
            ],
            "text/plain": [
              "                                            question   label\n",
              "0  return instance class using builder pattern tr...  design\n",
              "1  design multiple references object acting sibli...  design\n",
              "2  java using design patterns working desktop mus...  design\n",
              "3  props close marked required understand need pr...  design\n",
              "4  handle multiple having purpose closed want imp...  design"
            ]
          },
          "metadata": {
            "tags": []
          },
          "execution_count": 51
        }
      ]
    },
    {
      "cell_type": "code",
      "metadata": {
        "id": "4UXY2W9N7iFv",
        "colab_type": "code",
        "colab": {
          "base_uri": "https://localhost:8080/",
          "height": 221
        },
        "outputId": "b0e15917-0f5f-4ef2-f2f4-d2a9f38e7444"
      },
      "source": [
        "ad = process(df, 'answer', 'design')\n",
        "print(ad.shape)\n",
        "ad.head()"
      ],
      "execution_count": 52,
      "outputs": [
        {
          "output_type": "stream",
          "text": [
            "(57306, 2)\n"
          ],
          "name": "stdout"
        },
        {
          "output_type": "execute_result",
          "data": {
            "text/html": [
              "<div>\n",
              "<style scoped>\n",
              "    .dataframe tbody tr th:only-of-type {\n",
              "        vertical-align: middle;\n",
              "    }\n",
              "\n",
              "    .dataframe tbody tr th {\n",
              "        vertical-align: top;\n",
              "    }\n",
              "\n",
              "    .dataframe thead th {\n",
              "        text-align: right;\n",
              "    }\n",
              "</style>\n",
              "<table border=\"1\" class=\"dataframe\">\n",
              "  <thead>\n",
              "    <tr style=\"text-align: right;\">\n",
              "      <th></th>\n",
              "      <th>answer</th>\n",
              "      <th>label</th>\n",
              "    </tr>\n",
              "  </thead>\n",
              "  <tbody>\n",
              "    <tr>\n",
              "      <th>0</th>\n",
              "      <td>misunderstood operator least think line automa...</td>\n",
              "      <td>design</td>\n",
              "    </tr>\n",
              "    <tr>\n",
              "      <th>1</th>\n",
              "      <td>create table store references siblings table i...</td>\n",
              "      <td>design</td>\n",
              "    </tr>\n",
              "    <tr>\n",
              "      <th>3</th>\n",
              "      <td>observer pattern docs open says fired when com...</td>\n",
              "      <td>design</td>\n",
              "    </tr>\n",
              "    <tr>\n",
              "      <th>5</th>\n",
              "      <td>singlet collection elements singletons however...</td>\n",
              "      <td>design</td>\n",
              "    </tr>\n",
              "    <tr>\n",
              "      <th>7</th>\n",
              "      <td>adapter typically used fill code when interfac...</td>\n",
              "      <td>design</td>\n",
              "    </tr>\n",
              "  </tbody>\n",
              "</table>\n",
              "</div>"
            ],
            "text/plain": [
              "                                              answer   label\n",
              "0  misunderstood operator least think line automa...  design\n",
              "1  create table store references siblings table i...  design\n",
              "3  observer pattern docs open says fired when com...  design\n",
              "5  singlet collection elements singletons however...  design\n",
              "7  adapter typically used fill code when interfac...  design"
            ]
          },
          "metadata": {
            "tags": []
          },
          "execution_count": 52
        }
      ]
    },
    {
      "cell_type": "code",
      "metadata": {
        "id": "ym7KToeb7rBp",
        "colab_type": "code",
        "colab": {
          "base_uri": "https://localhost:8080/",
          "height": 221
        },
        "outputId": "c7578474-2a0e-4139-d691-3a607ff741fd"
      },
      "source": [
        "cd = process(df, 'comment', 'design')\n",
        "print(cd.shape)\n",
        "cd.head()"
      ],
      "execution_count": 53,
      "outputs": [
        {
          "output_type": "stream",
          "text": [
            "(49939, 2)\n"
          ],
          "name": "stdout"
        },
        {
          "output_type": "execute_result",
          "data": {
            "text/html": [
              "<div>\n",
              "<style scoped>\n",
              "    .dataframe tbody tr th:only-of-type {\n",
              "        vertical-align: middle;\n",
              "    }\n",
              "\n",
              "    .dataframe tbody tr th {\n",
              "        vertical-align: top;\n",
              "    }\n",
              "\n",
              "    .dataframe thead th {\n",
              "        text-align: right;\n",
              "    }\n",
              "</style>\n",
              "<table border=\"1\" class=\"dataframe\">\n",
              "  <thead>\n",
              "    <tr style=\"text-align: right;\">\n",
              "      <th></th>\n",
              "      <th>comment</th>\n",
              "      <th>label</th>\n",
              "    </tr>\n",
              "  </thead>\n",
              "  <tbody>\n",
              "    <tr>\n",
              "      <th>0</th>\n",
              "      <td>work please clarify include actually problem c...</td>\n",
              "      <td>design</td>\n",
              "    </tr>\n",
              "    <tr>\n",
              "      <th>1</th>\n",
              "      <td>represent link model tables represent links co...</td>\n",
              "      <td>design</td>\n",
              "    </tr>\n",
              "    <tr>\n",
              "      <th>3</th>\n",
              "      <td>thank makes sense true observer pattern giving...</td>\n",
              "      <td>design</td>\n",
              "    </tr>\n",
              "    <tr>\n",
              "      <th>5</th>\n",
              "      <td>core data maybe parent treat others child elem...</td>\n",
              "      <td>design</td>\n",
              "    </tr>\n",
              "    <tr>\n",
              "      <th>6</th>\n",
              "      <td>almost always better using variable further pa...</td>\n",
              "      <td>design</td>\n",
              "    </tr>\n",
              "  </tbody>\n",
              "</table>\n",
              "</div>"
            ],
            "text/plain": [
              "                                             comment   label\n",
              "0  work please clarify include actually problem c...  design\n",
              "1  represent link model tables represent links co...  design\n",
              "3  thank makes sense true observer pattern giving...  design\n",
              "5  core data maybe parent treat others child elem...  design\n",
              "6  almost always better using variable further pa...  design"
            ]
          },
          "metadata": {
            "tags": []
          },
          "execution_count": 53
        }
      ]
    },
    {
      "cell_type": "code",
      "metadata": {
        "id": "us9E6ZYQDsXg",
        "colab_type": "code",
        "colab": {
          "base_uri": "https://localhost:8080/",
          "height": 221
        },
        "outputId": "8bc48878-f41c-4496-d190-98363082f361"
      },
      "source": [
        "qg = process(df, 'question', 'general')\n",
        "print(qg.shape)\n",
        "qg.head()"
      ],
      "execution_count": 54,
      "outputs": [
        {
          "output_type": "stream",
          "text": [
            "(53317, 2)\n"
          ],
          "name": "stdout"
        },
        {
          "output_type": "execute_result",
          "data": {
            "text/html": [
              "<div>\n",
              "<style scoped>\n",
              "    .dataframe tbody tr th:only-of-type {\n",
              "        vertical-align: middle;\n",
              "    }\n",
              "\n",
              "    .dataframe tbody tr th {\n",
              "        vertical-align: top;\n",
              "    }\n",
              "\n",
              "    .dataframe thead th {\n",
              "        text-align: right;\n",
              "    }\n",
              "</style>\n",
              "<table border=\"1\" class=\"dataframe\">\n",
              "  <thead>\n",
              "    <tr style=\"text-align: right;\">\n",
              "      <th></th>\n",
              "      <th>question</th>\n",
              "      <th>label</th>\n",
              "    </tr>\n",
              "  </thead>\n",
              "  <tbody>\n",
              "    <tr>\n",
              "      <th>70201</th>\n",
              "      <td>want system date format using angular need for...</td>\n",
              "      <td>general</td>\n",
              "    </tr>\n",
              "    <tr>\n",
              "      <th>70202</th>\n",
              "      <td>prevent default does prevent form submitting u...</td>\n",
              "      <td>general</td>\n",
              "    </tr>\n",
              "    <tr>\n",
              "      <th>70203</th>\n",
              "      <td>search elements remove class duplicate want se...</td>\n",
              "      <td>general</td>\n",
              "    </tr>\n",
              "    <tr>\n",
              "      <th>70204</th>\n",
              "      <td>rewind video website embedded video stats cert...</td>\n",
              "      <td>general</td>\n",
              "    </tr>\n",
              "    <tr>\n",
              "      <th>70205</th>\n",
              "      <td>read file just started getting need read write...</td>\n",
              "      <td>general</td>\n",
              "    </tr>\n",
              "  </tbody>\n",
              "</table>\n",
              "</div>"
            ],
            "text/plain": [
              "                                                question    label\n",
              "70201  want system date format using angular need for...  general\n",
              "70202  prevent default does prevent form submitting u...  general\n",
              "70203  search elements remove class duplicate want se...  general\n",
              "70204  rewind video website embedded video stats cert...  general\n",
              "70205  read file just started getting need read write...  general"
            ]
          },
          "metadata": {
            "tags": []
          },
          "execution_count": 54
        }
      ]
    },
    {
      "cell_type": "code",
      "metadata": {
        "id": "tyTUBVeqEwC0",
        "colab_type": "code",
        "colab": {
          "base_uri": "https://localhost:8080/",
          "height": 221
        },
        "outputId": "b9c0eb90-4d2a-4bba-9662-f9fe1babf6d2"
      },
      "source": [
        "ag = process(df, 'answer', 'general')\n",
        "print(ag.shape)\n",
        "ag.head()"
      ],
      "execution_count": 55,
      "outputs": [
        {
          "output_type": "stream",
          "text": [
            "(23827, 2)\n"
          ],
          "name": "stdout"
        },
        {
          "output_type": "execute_result",
          "data": {
            "text/html": [
              "<div>\n",
              "<style scoped>\n",
              "    .dataframe tbody tr th:only-of-type {\n",
              "        vertical-align: middle;\n",
              "    }\n",
              "\n",
              "    .dataframe tbody tr th {\n",
              "        vertical-align: top;\n",
              "    }\n",
              "\n",
              "    .dataframe thead th {\n",
              "        text-align: right;\n",
              "    }\n",
              "</style>\n",
              "<table border=\"1\" class=\"dataframe\">\n",
              "  <thead>\n",
              "    <tr style=\"text-align: right;\">\n",
              "      <th></th>\n",
              "      <th>answer</th>\n",
              "      <th>label</th>\n",
              "    </tr>\n",
              "  </thead>\n",
              "  <tbody>\n",
              "    <tr>\n",
              "      <th>70204</th>\n",
              "      <td>video hosted within restrictive setting preven...</td>\n",
              "      <td>general</td>\n",
              "    </tr>\n",
              "    <tr>\n",
              "      <th>70209</th>\n",
              "      <td>dynamic regular updated specific example objec...</td>\n",
              "      <td>general</td>\n",
              "    </tr>\n",
              "    <tr>\n",
              "      <th>70213</th>\n",
              "      <td>something using array minus start zero move in...</td>\n",
              "      <td>general</td>\n",
              "    </tr>\n",
              "    <tr>\n",
              "      <th>70218</th>\n",
              "      <td>depends trying first example code true example...</td>\n",
              "      <td>general</td>\n",
              "    </tr>\n",
              "    <tr>\n",
              "      <th>70221</th>\n",
              "      <td>thanks comment able find existing explains iss...</td>\n",
              "      <td>general</td>\n",
              "    </tr>\n",
              "  </tbody>\n",
              "</table>\n",
              "</div>"
            ],
            "text/plain": [
              "                                                  answer    label\n",
              "70204  video hosted within restrictive setting preven...  general\n",
              "70209  dynamic regular updated specific example objec...  general\n",
              "70213  something using array minus start zero move in...  general\n",
              "70218  depends trying first example code true example...  general\n",
              "70221  thanks comment able find existing explains iss...  general"
            ]
          },
          "metadata": {
            "tags": []
          },
          "execution_count": 55
        }
      ]
    },
    {
      "cell_type": "code",
      "metadata": {
        "id": "dpaWjLuqE2Es",
        "colab_type": "code",
        "colab": {
          "base_uri": "https://localhost:8080/",
          "height": 221
        },
        "outputId": "d981e116-a4da-47f8-b291-0394ef10731a"
      },
      "source": [
        "cg = process(df, 'comment', 'general')\n",
        "print(cg.shape)\n",
        "cg.head()"
      ],
      "execution_count": 56,
      "outputs": [
        {
          "output_type": "stream",
          "text": [
            "(31091, 2)\n"
          ],
          "name": "stdout"
        },
        {
          "output_type": "execute_result",
          "data": {
            "text/html": [
              "<div>\n",
              "<style scoped>\n",
              "    .dataframe tbody tr th:only-of-type {\n",
              "        vertical-align: middle;\n",
              "    }\n",
              "\n",
              "    .dataframe tbody tr th {\n",
              "        vertical-align: top;\n",
              "    }\n",
              "\n",
              "    .dataframe thead th {\n",
              "        text-align: right;\n",
              "    }\n",
              "</style>\n",
              "<table border=\"1\" class=\"dataframe\">\n",
              "  <thead>\n",
              "    <tr style=\"text-align: right;\">\n",
              "      <th></th>\n",
              "      <th>comment</th>\n",
              "      <th>label</th>\n",
              "    </tr>\n",
              "  </thead>\n",
              "  <tbody>\n",
              "    <tr>\n",
              "      <th>70202</th>\n",
              "      <td>trying call check called welcome stack overflo...</td>\n",
              "      <td>general</td>\n",
              "    </tr>\n",
              "    <tr>\n",
              "      <th>70207</th>\n",
              "      <td>give little detail perhaps even show code usin...</td>\n",
              "      <td>general</td>\n",
              "    </tr>\n",
              "    <tr>\n",
              "      <th>70208</th>\n",
              "      <td>assigning object array give example headers ob...</td>\n",
              "      <td>general</td>\n",
              "    </tr>\n",
              "    <tr>\n",
              "      <th>70209</th>\n",
              "      <td>code looking lookup string want idea want chec...</td>\n",
              "      <td>general</td>\n",
              "    </tr>\n",
              "    <tr>\n",
              "      <th>70211</th>\n",
              "      <td>available remove events popup makes little sen...</td>\n",
              "      <td>general</td>\n",
              "    </tr>\n",
              "  </tbody>\n",
              "</table>\n",
              "</div>"
            ],
            "text/plain": [
              "                                                 comment    label\n",
              "70202  trying call check called welcome stack overflo...  general\n",
              "70207  give little detail perhaps even show code usin...  general\n",
              "70208  assigning object array give example headers ob...  general\n",
              "70209  code looking lookup string want idea want chec...  general\n",
              "70211  available remove events popup makes little sen...  general"
            ]
          },
          "metadata": {
            "tags": []
          },
          "execution_count": 56
        }
      ]
    },
    {
      "cell_type": "code",
      "metadata": {
        "id": "EVjtnlOGFRiv",
        "colab_type": "code",
        "colab": {}
      },
      "source": [
        "questions = pd.concat([qd[1:50000], qg[1:50000]], axis=0)\n",
        "questions = questions.sample(frac=1)\n",
        "answers = pd.concat([ad[1:20000], ag[1:20000]], axis=0)\n",
        "answers = answers.sample(frac=1)\n",
        "comments = pd.concat([cd[1:30000], cg[1:30000]], axis=0)\n",
        "comments = comments.sample(frac=1)"
      ],
      "execution_count": 0,
      "outputs": []
    },
    {
      "cell_type": "code",
      "metadata": {
        "id": "bbhczoZdGJa6",
        "colab_type": "code",
        "colab": {}
      },
      "source": [
        "questions.to_csv(\"/content/drive/My Drive/UVic-RA/DeCaf/data/questions.csv\", index=False, header=True)\n",
        "answers.to_csv(\"/content/drive/My Drive/UVic-RA/DeCaf/data/answers.csv\", index=False, header=True)\n",
        "comments.to_csv(\"/content/drive/My Drive/UVic-RA/DeCaf/data/comments.csv\", index=False, header=True)"
      ],
      "execution_count": 0,
      "outputs": []
    }
  ]
}